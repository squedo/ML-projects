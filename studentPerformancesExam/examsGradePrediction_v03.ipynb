{
 "cells": [
  {
   "cell_type": "markdown",
   "metadata": {},
   "source": [
    "## Exams Grade Prediction \n",
    "\n",
    "Using dataset downloaded from Kaggle https://www.kaggle.com/spscientist/students-performance-in-exams"
   ]
  },
  {
   "cell_type": "markdown",
   "metadata": {},
   "source": [
    "### 0. Loading data, wrangling and analyzing data"
   ]
  },
  {
   "cell_type": "code",
   "execution_count": 85,
   "metadata": {},
   "outputs": [],
   "source": [
    "%matplotlib inline\n",
    "\n",
    "import matplotlib\n",
    "import numpy as np\n",
    "import matplotlib.pyplot as plt\n",
    "\n",
    "import pandas as pd"
   ]
  },
  {
   "cell_type": "code",
   "execution_count": 86,
   "metadata": {},
   "outputs": [
    {
     "data": {
      "text/html": [
       "<div>\n",
       "<style scoped>\n",
       "    .dataframe tbody tr th:only-of-type {\n",
       "        vertical-align: middle;\n",
       "    }\n",
       "\n",
       "    .dataframe tbody tr th {\n",
       "        vertical-align: top;\n",
       "    }\n",
       "\n",
       "    .dataframe thead th {\n",
       "        text-align: right;\n",
       "    }\n",
       "</style>\n",
       "<table border=\"1\" class=\"dataframe\">\n",
       "  <thead>\n",
       "    <tr style=\"text-align: right;\">\n",
       "      <th></th>\n",
       "      <th>gender</th>\n",
       "      <th>race/ethnicity</th>\n",
       "      <th>parental level of education</th>\n",
       "      <th>lunch</th>\n",
       "      <th>test preparation course</th>\n",
       "      <th>math score</th>\n",
       "      <th>reading score</th>\n",
       "      <th>writing score</th>\n",
       "    </tr>\n",
       "  </thead>\n",
       "  <tbody>\n",
       "    <tr>\n",
       "      <th>0</th>\n",
       "      <td>female</td>\n",
       "      <td>group B</td>\n",
       "      <td>bachelor's degree</td>\n",
       "      <td>standard</td>\n",
       "      <td>none</td>\n",
       "      <td>72</td>\n",
       "      <td>72</td>\n",
       "      <td>74</td>\n",
       "    </tr>\n",
       "    <tr>\n",
       "      <th>1</th>\n",
       "      <td>female</td>\n",
       "      <td>group C</td>\n",
       "      <td>some college</td>\n",
       "      <td>standard</td>\n",
       "      <td>completed</td>\n",
       "      <td>69</td>\n",
       "      <td>90</td>\n",
       "      <td>88</td>\n",
       "    </tr>\n",
       "    <tr>\n",
       "      <th>2</th>\n",
       "      <td>female</td>\n",
       "      <td>group B</td>\n",
       "      <td>master's degree</td>\n",
       "      <td>standard</td>\n",
       "      <td>none</td>\n",
       "      <td>90</td>\n",
       "      <td>95</td>\n",
       "      <td>93</td>\n",
       "    </tr>\n",
       "    <tr>\n",
       "      <th>3</th>\n",
       "      <td>male</td>\n",
       "      <td>group A</td>\n",
       "      <td>associate's degree</td>\n",
       "      <td>free/reduced</td>\n",
       "      <td>none</td>\n",
       "      <td>47</td>\n",
       "      <td>57</td>\n",
       "      <td>44</td>\n",
       "    </tr>\n",
       "    <tr>\n",
       "      <th>4</th>\n",
       "      <td>male</td>\n",
       "      <td>group C</td>\n",
       "      <td>some college</td>\n",
       "      <td>standard</td>\n",
       "      <td>none</td>\n",
       "      <td>76</td>\n",
       "      <td>78</td>\n",
       "      <td>75</td>\n",
       "    </tr>\n",
       "  </tbody>\n",
       "</table>\n",
       "</div>"
      ],
      "text/plain": [
       "   gender race/ethnicity parental level of education         lunch  \\\n",
       "0  female        group B           bachelor's degree      standard   \n",
       "1  female        group C                some college      standard   \n",
       "2  female        group B             master's degree      standard   \n",
       "3    male        group A          associate's degree  free/reduced   \n",
       "4    male        group C                some college      standard   \n",
       "\n",
       "  test preparation course  math score  reading score  writing score  \n",
       "0                    none          72             72             74  \n",
       "1               completed          69             90             88  \n",
       "2                    none          90             95             93  \n",
       "3                    none          47             57             44  \n",
       "4                    none          76             78             75  "
      ]
     },
     "execution_count": 86,
     "metadata": {},
     "output_type": "execute_result"
    }
   ],
   "source": [
    "df = pd.read_csv('StudentsPerformance.csv')\n",
    "df.head()"
   ]
  },
  {
   "cell_type": "code",
   "execution_count": 87,
   "metadata": {},
   "outputs": [
    {
     "name": "stdout",
     "output_type": "stream",
     "text": [
      "gender                         object\n",
      "race/ethnicity                 object\n",
      "parental level of education    object\n",
      "lunch                          object\n",
      "test preparation course        object\n",
      "math score                      int64\n",
      "reading score                   int64\n",
      "writing score                   int64\n",
      "dtype: object\n",
      "\n",
      "gender                         0\n",
      "race/ethnicity                 0\n",
      "parental level of education    0\n",
      "lunch                          0\n",
      "test preparation course        0\n",
      "math score                     0\n",
      "reading score                  0\n",
      "writing score                  0\n",
      "dtype: int64\n"
     ]
    }
   ],
   "source": [
    "print(df.dtypes)\n",
    "print(); print(df.isna().sum())"
   ]
  },
  {
   "cell_type": "code",
   "execution_count": 88,
   "metadata": {},
   "outputs": [],
   "source": [
    "df.replace([np.inf, -np.inf], np.nan)\n",
    "df.dropna(inplace = True)"
   ]
  },
  {
   "cell_type": "code",
   "execution_count": 89,
   "metadata": {},
   "outputs": [
    {
     "data": {
      "text/plain": [
       "(1000, 8)"
      ]
     },
     "execution_count": 89,
     "metadata": {},
     "output_type": "execute_result"
    }
   ],
   "source": [
    "df.shape"
   ]
  },
  {
   "cell_type": "code",
   "execution_count": 90,
   "metadata": {},
   "outputs": [
    {
     "data": {
      "text/html": [
       "<div>\n",
       "<style scoped>\n",
       "    .dataframe tbody tr th:only-of-type {\n",
       "        vertical-align: middle;\n",
       "    }\n",
       "\n",
       "    .dataframe tbody tr th {\n",
       "        vertical-align: top;\n",
       "    }\n",
       "\n",
       "    .dataframe thead th {\n",
       "        text-align: right;\n",
       "    }\n",
       "</style>\n",
       "<table border=\"1\" class=\"dataframe\">\n",
       "  <thead>\n",
       "    <tr style=\"text-align: right;\">\n",
       "      <th></th>\n",
       "      <th>gender</th>\n",
       "      <th>race/ethnicity</th>\n",
       "      <th>parental level of education</th>\n",
       "      <th>lunch</th>\n",
       "      <th>test preparation course</th>\n",
       "      <th>math score</th>\n",
       "      <th>reading score</th>\n",
       "      <th>writing score</th>\n",
       "      <th>mean results</th>\n",
       "    </tr>\n",
       "  </thead>\n",
       "  <tbody>\n",
       "    <tr>\n",
       "      <th>0</th>\n",
       "      <td>female</td>\n",
       "      <td>group B</td>\n",
       "      <td>bachelor's degree</td>\n",
       "      <td>standard</td>\n",
       "      <td>none</td>\n",
       "      <td>72</td>\n",
       "      <td>72</td>\n",
       "      <td>74</td>\n",
       "      <td>73.0</td>\n",
       "    </tr>\n",
       "    <tr>\n",
       "      <th>1</th>\n",
       "      <td>female</td>\n",
       "      <td>group C</td>\n",
       "      <td>some college</td>\n",
       "      <td>standard</td>\n",
       "      <td>completed</td>\n",
       "      <td>69</td>\n",
       "      <td>90</td>\n",
       "      <td>88</td>\n",
       "      <td>82.0</td>\n",
       "    </tr>\n",
       "    <tr>\n",
       "      <th>2</th>\n",
       "      <td>female</td>\n",
       "      <td>group B</td>\n",
       "      <td>master's degree</td>\n",
       "      <td>standard</td>\n",
       "      <td>none</td>\n",
       "      <td>90</td>\n",
       "      <td>95</td>\n",
       "      <td>93</td>\n",
       "      <td>93.0</td>\n",
       "    </tr>\n",
       "    <tr>\n",
       "      <th>3</th>\n",
       "      <td>male</td>\n",
       "      <td>group A</td>\n",
       "      <td>associate's degree</td>\n",
       "      <td>free/reduced</td>\n",
       "      <td>none</td>\n",
       "      <td>47</td>\n",
       "      <td>57</td>\n",
       "      <td>44</td>\n",
       "      <td>49.0</td>\n",
       "    </tr>\n",
       "    <tr>\n",
       "      <th>4</th>\n",
       "      <td>male</td>\n",
       "      <td>group C</td>\n",
       "      <td>some college</td>\n",
       "      <td>standard</td>\n",
       "      <td>none</td>\n",
       "      <td>76</td>\n",
       "      <td>78</td>\n",
       "      <td>75</td>\n",
       "      <td>76.0</td>\n",
       "    </tr>\n",
       "  </tbody>\n",
       "</table>\n",
       "</div>"
      ],
      "text/plain": [
       "   gender race/ethnicity parental level of education         lunch  \\\n",
       "0  female        group B           bachelor's degree      standard   \n",
       "1  female        group C                some college      standard   \n",
       "2  female        group B             master's degree      standard   \n",
       "3    male        group A          associate's degree  free/reduced   \n",
       "4    male        group C                some college      standard   \n",
       "\n",
       "  test preparation course  math score  reading score  writing score  \\\n",
       "0                    none          72             72             74   \n",
       "1               completed          69             90             88   \n",
       "2                    none          90             95             93   \n",
       "3                    none          47             57             44   \n",
       "4                    none          76             78             75   \n",
       "\n",
       "   mean results  \n",
       "0          73.0  \n",
       "1          82.0  \n",
       "2          93.0  \n",
       "3          49.0  \n",
       "4          76.0  "
      ]
     },
     "execution_count": 90,
     "metadata": {},
     "output_type": "execute_result"
    }
   ],
   "source": [
    "col = df.loc[:,\"math score\":\"writing score\"]\n",
    "df['mean results'] = col.mean(axis=1).round()\n",
    "df.head()"
   ]
  },
  {
   "cell_type": "code",
   "execution_count": 91,
   "metadata": {},
   "outputs": [
    {
     "data": {
      "text/plain": [
       "(1000, 9)"
      ]
     },
     "execution_count": 91,
     "metadata": {},
     "output_type": "execute_result"
    }
   ],
   "source": [
    "df.shape"
   ]
  },
  {
   "cell_type": "code",
   "execution_count": 92,
   "metadata": {},
   "outputs": [
    {
     "name": "stdout",
     "output_type": "stream",
     "text": [
      "female    518\n",
      "male      482\n",
      "Name: gender, dtype: int64\n",
      "\n",
      "group C    319\n",
      "group D    262\n",
      "group B    190\n",
      "group E    140\n",
      "group A     89\n",
      "Name: race/ethnicity, dtype: int64\n",
      "\n",
      "some college          226\n",
      "associate's degree    222\n",
      "high school           196\n",
      "some high school      179\n",
      "bachelor's degree     118\n",
      "master's degree        59\n",
      "Name: parental level of education, dtype: int64\n",
      "\n",
      "standard        645\n",
      "free/reduced    355\n",
      "Name: lunch, dtype: int64\n",
      "\n",
      "none         642\n",
      "completed    358\n",
      "Name: test preparation course, dtype: int64\n"
     ]
    }
   ],
   "source": [
    "print(df['gender'].value_counts())\n",
    "print(); print(df['race/ethnicity'].value_counts())\n",
    "print(); print(df['parental level of education'].value_counts())\n",
    "print(); print(df['lunch'].value_counts())\n",
    "print(); print(df['test preparation course'].value_counts())"
   ]
  },
  {
   "cell_type": "code",
   "execution_count": 93,
   "metadata": {},
   "outputs": [
    {
     "name": "stdout",
     "output_type": "stream",
     "text": [
      "9.0 100.0\n"
     ]
    }
   ],
   "source": [
    "mn,mx = df['mean results'].min(),df['mean results'].max()\n",
    "print(mn,mx)"
   ]
  },
  {
   "cell_type": "code",
   "execution_count": 94,
   "metadata": {},
   "outputs": [
    {
     "data": {
      "text/html": [
       "<div>\n",
       "<style scoped>\n",
       "    .dataframe tbody tr th:only-of-type {\n",
       "        vertical-align: middle;\n",
       "    }\n",
       "\n",
       "    .dataframe tbody tr th {\n",
       "        vertical-align: top;\n",
       "    }\n",
       "\n",
       "    .dataframe thead th {\n",
       "        text-align: right;\n",
       "    }\n",
       "</style>\n",
       "<table border=\"1\" class=\"dataframe\">\n",
       "  <thead>\n",
       "    <tr style=\"text-align: right;\">\n",
       "      <th></th>\n",
       "      <th>gender</th>\n",
       "      <th>race/ethnicity</th>\n",
       "      <th>parental level of education</th>\n",
       "      <th>lunch</th>\n",
       "      <th>test preparation course</th>\n",
       "      <th>math score</th>\n",
       "      <th>reading score</th>\n",
       "      <th>writing score</th>\n",
       "      <th>mean results</th>\n",
       "      <th>group</th>\n",
       "    </tr>\n",
       "  </thead>\n",
       "  <tbody>\n",
       "    <tr>\n",
       "      <th>0</th>\n",
       "      <td>female</td>\n",
       "      <td>group B</td>\n",
       "      <td>bachelor's degree</td>\n",
       "      <td>standard</td>\n",
       "      <td>none</td>\n",
       "      <td>72</td>\n",
       "      <td>72</td>\n",
       "      <td>74</td>\n",
       "      <td>73.0</td>\n",
       "      <td>70 - 79</td>\n",
       "    </tr>\n",
       "    <tr>\n",
       "      <th>1</th>\n",
       "      <td>female</td>\n",
       "      <td>group C</td>\n",
       "      <td>some college</td>\n",
       "      <td>standard</td>\n",
       "      <td>completed</td>\n",
       "      <td>69</td>\n",
       "      <td>90</td>\n",
       "      <td>88</td>\n",
       "      <td>82.0</td>\n",
       "      <td>80 - 89</td>\n",
       "    </tr>\n",
       "    <tr>\n",
       "      <th>2</th>\n",
       "      <td>female</td>\n",
       "      <td>group B</td>\n",
       "      <td>master's degree</td>\n",
       "      <td>standard</td>\n",
       "      <td>none</td>\n",
       "      <td>90</td>\n",
       "      <td>95</td>\n",
       "      <td>93</td>\n",
       "      <td>93.0</td>\n",
       "      <td>90 - 99</td>\n",
       "    </tr>\n",
       "    <tr>\n",
       "      <th>3</th>\n",
       "      <td>male</td>\n",
       "      <td>group A</td>\n",
       "      <td>associate's degree</td>\n",
       "      <td>free/reduced</td>\n",
       "      <td>none</td>\n",
       "      <td>47</td>\n",
       "      <td>57</td>\n",
       "      <td>44</td>\n",
       "      <td>49.0</td>\n",
       "      <td>40 - 49</td>\n",
       "    </tr>\n",
       "    <tr>\n",
       "      <th>4</th>\n",
       "      <td>male</td>\n",
       "      <td>group C</td>\n",
       "      <td>some college</td>\n",
       "      <td>standard</td>\n",
       "      <td>none</td>\n",
       "      <td>76</td>\n",
       "      <td>78</td>\n",
       "      <td>75</td>\n",
       "      <td>76.0</td>\n",
       "      <td>70 - 79</td>\n",
       "    </tr>\n",
       "  </tbody>\n",
       "</table>\n",
       "</div>"
      ],
      "text/plain": [
       "   gender race/ethnicity parental level of education         lunch  \\\n",
       "0  female        group B           bachelor's degree      standard   \n",
       "1  female        group C                some college      standard   \n",
       "2  female        group B             master's degree      standard   \n",
       "3    male        group A          associate's degree  free/reduced   \n",
       "4    male        group C                some college      standard   \n",
       "\n",
       "  test preparation course  math score  reading score  writing score  \\\n",
       "0                    none          72             72             74   \n",
       "1               completed          69             90             88   \n",
       "2                    none          90             95             93   \n",
       "3                    none          47             57             44   \n",
       "4                    none          76             78             75   \n",
       "\n",
       "   mean results    group  \n",
       "0          73.0  70 - 79  \n",
       "1          82.0  80 - 89  \n",
       "2          93.0  90 - 99  \n",
       "3          49.0  40 - 49  \n",
       "4          76.0  70 - 79  "
      ]
     },
     "execution_count": 94,
     "metadata": {},
     "output_type": "execute_result"
    }
   ],
   "source": [
    "labels = [\"{0} - {1}\".format(i, i + 9) for i in range(0, 100, 10)]\n",
    "df['group'] = pd.cut(df['mean results'], range(0, 105, 10), right=False, labels=labels)\n",
    "df.head()"
   ]
  },
  {
   "cell_type": "code",
   "execution_count": 95,
   "metadata": {},
   "outputs": [
    {
     "name": "stdout",
     "output_type": "stream",
     "text": [
      "gender                         0\n",
      "race/ethnicity                 0\n",
      "parental level of education    0\n",
      "lunch                          0\n",
      "test preparation course        0\n",
      "math score                     0\n",
      "reading score                  0\n",
      "writing score                  0\n",
      "mean results                   0\n",
      "group                          4\n",
      "dtype: int64\n",
      "gender                         0\n",
      "race/ethnicity                 0\n",
      "parental level of education    0\n",
      "lunch                          0\n",
      "test preparation course        0\n",
      "math score                     0\n",
      "reading score                  0\n",
      "writing score                  0\n",
      "mean results                   0\n",
      "group                          0\n",
      "dtype: int64\n"
     ]
    }
   ],
   "source": [
    "print(df.isna().sum())\n",
    "df.dropna(inplace = True)\n",
    "print(df.isna().sum())"
   ]
  },
  {
   "cell_type": "code",
   "execution_count": 96,
   "metadata": {},
   "outputs": [
    {
     "data": {
      "image/png": "[encoded data removed]",
      "text/plain": [
       "<Figure size 432x288 with 1 Axes>"
      ]
     },
     "metadata": {
      "needs_background": "light"
     },
     "output_type": "display_data"
    },
    {
     "data": {
      "image/png": "[encoded data removed]",
      "text/plain": [
       "<Figure size 432x288 with 1 Axes>"
      ]
     },
     "metadata": {
      "needs_background": "light"
     },
     "output_type": "display_data"
    },
    {
     "data": {
      "image/png": "[encoded data removed]",
      "text/plain": [
       "<Figure size 432x288 with 1 Axes>"
      ]
     },
     "metadata": {
      "needs_background": "light"
     },
     "output_type": "display_data"
    }
   ],
   "source": [
    "plt.hist(df['mean results'],bins=10)\n",
    "plt.show()\n",
    "plt.hist(df['gender'],bins=np.arange(3)-0.5)\n",
    "plt.show()\n",
    "plt.hist(df['group'])\n",
    "plt.show()"
   ]
  },
  {
   "cell_type": "code",
   "execution_count": 97,
   "metadata": {},
   "outputs": [
    {
     "name": "stdout",
     "output_type": "stream",
     "text": [
      "gender  group  \n",
      "female  0 - 9        1\n",
      "        10 - 19      1\n",
      "        20 - 29      2\n",
      "        30 - 39     12\n",
      "        40 - 49     22\n",
      "        50 - 59     81\n",
      "        60 - 69    129\n",
      "        70 - 79    148\n",
      "        80 - 89     82\n",
      "        90 - 99     37\n",
      "male    0 - 9        0\n",
      "        10 - 19      0\n",
      "        20 - 29      3\n",
      "        30 - 39      8\n",
      "        40 - 49     51\n",
      "        50 - 59     99\n",
      "        60 - 69    127\n",
      "        70 - 79    110\n",
      "        80 - 89     70\n",
      "        90 - 99     13\n",
      "dtype: int64\n"
     ]
    }
   ],
   "source": [
    "print(df.groupby(['gender','group']).size())"
   ]
  },
  {
   "cell_type": "code",
   "execution_count": 98,
   "metadata": {},
   "outputs": [
    {
     "name": "stdout",
     "output_type": "stream",
     "text": [
      "race/ethnicity  group  \n",
      "group A         0 - 9       0\n",
      "                10 - 19     0\n",
      "                20 - 29     1\n",
      "                30 - 39     2\n",
      "                40 - 49    13\n",
      "                50 - 59    23\n",
      "                60 - 69    23\n",
      "                70 - 79    15\n",
      "                80 - 89     8\n",
      "                90 - 99     4\n",
      "group B         0 - 9       0\n",
      "                10 - 19     1\n",
      "                20 - 29     2\n",
      "                30 - 39     5\n",
      "                40 - 49    18\n",
      "                50 - 59    32\n",
      "                60 - 69    59\n",
      "                70 - 79    35\n",
      "                80 - 89    31\n",
      "                90 - 99     7\n",
      "group C         0 - 9       1\n",
      "                10 - 19     0\n",
      "                20 - 29     1\n",
      "                30 - 39     7\n",
      "                40 - 49    21\n",
      "                50 - 59    66\n",
      "                60 - 69    79\n",
      "                70 - 79    89\n",
      "                80 - 89    39\n",
      "                90 - 99    16\n",
      "group D         0 - 9       0\n",
      "                10 - 19     0\n",
      "                20 - 29     0\n",
      "                30 - 39     5\n",
      "                40 - 49    14\n",
      "                50 - 59    44\n",
      "                60 - 69    66\n",
      "                70 - 79    77\n",
      "                80 - 89    43\n",
      "                90 - 99    13\n",
      "group E         0 - 9       0\n",
      "                10 - 19     0\n",
      "                20 - 29     1\n",
      "                30 - 39     1\n",
      "                40 - 49     7\n",
      "                50 - 59    15\n",
      "                60 - 69    29\n",
      "                70 - 79    42\n",
      "                80 - 89    31\n",
      "                90 - 99    10\n",
      "dtype: int64\n"
     ]
    }
   ],
   "source": [
    "print(df.groupby(['race/ethnicity','group']).size())"
   ]
  },
  {
   "cell_type": "code",
   "execution_count": 99,
   "metadata": {},
   "outputs": [
    {
     "name": "stdout",
     "output_type": "stream",
     "text": [
      "parental level of education  group  \n",
      "associate's degree           0 - 9       0\n",
      "                             10 - 19     0\n",
      "                             20 - 29     0\n",
      "                             30 - 39     1\n",
      "                             40 - 49    16\n",
      "                             50 - 59    42\n",
      "                             60 - 69    51\n",
      "                             70 - 79    59\n",
      "                             80 - 89    36\n",
      "                             90 - 99    16\n",
      "bachelor's degree            0 - 9       0\n",
      "                             10 - 19     0\n",
      "                             20 - 29     0\n",
      "                             30 - 39     1\n",
      "                             40 - 49     7\n",
      "                             50 - 59    12\n",
      "                             60 - 69    32\n",
      "                             70 - 79    31\n",
      "                             80 - 89    22\n",
      "                             90 - 99    10\n",
      "high school                  0 - 9       0\n",
      "                             10 - 19     1\n",
      "                             20 - 29     2\n",
      "                             30 - 39     7\n",
      "                             40 - 49    22\n",
      "                             50 - 59    41\n",
      "                             60 - 69    56\n",
      "                             70 - 79    46\n",
      "                             80 - 89    19\n",
      "                             90 - 99     2\n",
      "master's degree              0 - 9       0\n",
      "                             10 - 19     0\n",
      "                             20 - 29     0\n",
      "                             30 - 39     0\n",
      "                             40 - 49     1\n",
      "                             50 - 59     9\n",
      "                             60 - 69    13\n",
      "                             70 - 79    16\n",
      "                             80 - 89    14\n",
      "                             90 - 99     6\n",
      "some college                 0 - 9       0\n",
      "                             10 - 19     0\n",
      "                             20 - 29     1\n",
      "                             30 - 39     5\n",
      "                             40 - 49     8\n",
      "                             50 - 59    41\n",
      "                             60 - 69    63\n",
      "                             70 - 79    61\n",
      "                             80 - 89    35\n",
      "                             90 - 99    12\n",
      "some high school             0 - 9       1\n",
      "                             10 - 19     0\n",
      "                             20 - 29     2\n",
      "                             30 - 39     6\n",
      "                             40 - 49    19\n",
      "                             50 - 59    35\n",
      "                             60 - 69    41\n",
      "                             70 - 79    45\n",
      "                             80 - 89    26\n",
      "                             90 - 99     4\n",
      "dtype: int64\n"
     ]
    }
   ],
   "source": [
    "print(df.groupby(['parental level of education','group']).size())"
   ]
  },
  {
   "cell_type": "code",
   "execution_count": 100,
   "metadata": {},
   "outputs": [
    {
     "name": "stdout",
     "output_type": "stream",
     "text": [
      "lunch         group  \n",
      "free/reduced  0 - 9        1\n",
      "              10 - 19      1\n",
      "              20 - 29      3\n",
      "              30 - 39     17\n",
      "              40 - 49     38\n",
      "              50 - 59     95\n",
      "              60 - 69     88\n",
      "              70 - 79     72\n",
      "              80 - 89     36\n",
      "              90 - 99      4\n",
      "standard      0 - 9        0\n",
      "              10 - 19      0\n",
      "              20 - 29      2\n",
      "              30 - 39      3\n",
      "              40 - 49     35\n",
      "              50 - 59     85\n",
      "              60 - 69    168\n",
      "              70 - 79    186\n",
      "              80 - 89    116\n",
      "              90 - 99     46\n",
      "dtype: int64\n"
     ]
    }
   ],
   "source": [
    "print(df.groupby(['lunch','group']).size())"
   ]
  },
  {
   "cell_type": "code",
   "execution_count": 101,
   "metadata": {},
   "outputs": [
    {
     "name": "stdout",
     "output_type": "stream",
     "text": [
      "test preparation course  group  \n",
      "completed                0 - 9        0\n",
      "                         10 - 19      0\n",
      "                         20 - 29      0\n",
      "                         30 - 39      2\n",
      "                         40 - 49     16\n",
      "                         50 - 59     40\n",
      "                         60 - 69     81\n",
      "                         70 - 79    111\n",
      "                         80 - 89     72\n",
      "                         90 - 99     34\n",
      "none                     0 - 9        1\n",
      "                         10 - 19      1\n",
      "                         20 - 29      5\n",
      "                         30 - 39     18\n",
      "                         40 - 49     57\n",
      "                         50 - 59    140\n",
      "                         60 - 69    175\n",
      "                         70 - 79    147\n",
      "                         80 - 89     80\n",
      "                         90 - 99     16\n",
      "dtype: int64\n"
     ]
    }
   ],
   "source": [
    "print(df.groupby(['test preparation course','group']).size())"
   ]
  },
  {
   "cell_type": "code",
   "execution_count": 102,
   "metadata": {},
   "outputs": [
    {
     "name": "stderr",
     "output_type": "stream",
     "text": [
      "<ipython-input-102-2e772e95bd46>:3: SettingWithCopyWarning: \n",
      "A value is trying to be set on a copy of a slice from a DataFrame.\n",
      "Try using .loc[row_indexer,col_indexer] = value instead\n",
      "\n",
      "See the caveats in the documentation: https://pandas.pydata.org/pandas-docs/stable/user_guide/indexing.html#returning-a-view-versus-a-copy\n",
      "  obj_df['gender'] = obj_df['gender'].astype('category')\n",
      "<ipython-input-102-2e772e95bd46>:4: SettingWithCopyWarning: \n",
      "A value is trying to be set on a copy of a slice from a DataFrame.\n",
      "Try using .loc[row_indexer,col_indexer] = value instead\n",
      "\n",
      "See the caveats in the documentation: https://pandas.pydata.org/pandas-docs/stable/user_guide/indexing.html#returning-a-view-versus-a-copy\n",
      "  obj_df['race/ethnicity'] = obj_df['race/ethnicity'].astype('category')\n",
      "<ipython-input-102-2e772e95bd46>:5: SettingWithCopyWarning: \n",
      "A value is trying to be set on a copy of a slice from a DataFrame.\n",
      "Try using .loc[row_indexer,col_indexer] = value instead\n",
      "\n",
      "See the caveats in the documentation: https://pandas.pydata.org/pandas-docs/stable/user_guide/indexing.html#returning-a-view-versus-a-copy\n",
      "  obj_df['parental level of education'] = obj_df['parental level of education'].astype('category')\n",
      "<ipython-input-102-2e772e95bd46>:6: SettingWithCopyWarning: \n",
      "A value is trying to be set on a copy of a slice from a DataFrame.\n",
      "Try using .loc[row_indexer,col_indexer] = value instead\n",
      "\n",
      "See the caveats in the documentation: https://pandas.pydata.org/pandas-docs/stable/user_guide/indexing.html#returning-a-view-versus-a-copy\n",
      "  obj_df['lunch'] = obj_df['lunch'].astype('category')\n",
      "<ipython-input-102-2e772e95bd46>:7: SettingWithCopyWarning: \n",
      "A value is trying to be set on a copy of a slice from a DataFrame.\n",
      "Try using .loc[row_indexer,col_indexer] = value instead\n",
      "\n",
      "See the caveats in the documentation: https://pandas.pydata.org/pandas-docs/stable/user_guide/indexing.html#returning-a-view-versus-a-copy\n",
      "  obj_df['test preparation course'] = obj_df['test preparation course'].astype('category')\n",
      "<ipython-input-102-2e772e95bd46>:9: SettingWithCopyWarning: \n",
      "A value is trying to be set on a copy of a slice from a DataFrame.\n",
      "Try using .loc[row_indexer,col_indexer] = value instead\n",
      "\n",
      "See the caveats in the documentation: https://pandas.pydata.org/pandas-docs/stable/user_guide/indexing.html#returning-a-view-versus-a-copy\n",
      "  obj_df[\"gender_cat\"] = obj_df[\"gender\"].cat.codes\n",
      "<ipython-input-102-2e772e95bd46>:10: SettingWithCopyWarning: \n",
      "A value is trying to be set on a copy of a slice from a DataFrame.\n",
      "Try using .loc[row_indexer,col_indexer] = value instead\n",
      "\n",
      "See the caveats in the documentation: https://pandas.pydata.org/pandas-docs/stable/user_guide/indexing.html#returning-a-view-versus-a-copy\n",
      "  obj_df[\"race/ethnicity_cat\"] = obj_df[\"race/ethnicity\"].cat.codes\n",
      "<ipython-input-102-2e772e95bd46>:11: SettingWithCopyWarning: \n",
      "A value is trying to be set on a copy of a slice from a DataFrame.\n",
      "Try using .loc[row_indexer,col_indexer] = value instead\n",
      "\n",
      "See the caveats in the documentation: https://pandas.pydata.org/pandas-docs/stable/user_guide/indexing.html#returning-a-view-versus-a-copy\n",
      "  obj_df[\"parental level of education_cat\"] = obj_df[\"parental level of education\"].cat.codes\n",
      "<ipython-input-102-2e772e95bd46>:12: SettingWithCopyWarning: \n",
      "A value is trying to be set on a copy of a slice from a DataFrame.\n",
      "Try using .loc[row_indexer,col_indexer] = value instead\n",
      "\n",
      "See the caveats in the documentation: https://pandas.pydata.org/pandas-docs/stable/user_guide/indexing.html#returning-a-view-versus-a-copy\n",
      "  obj_df[\"lunch_cat\"] = obj_df[\"lunch\"].cat.codes\n"
     ]
    },
    {
     "data": {
      "text/html": [
       "<div>\n",
       "<style scoped>\n",
       "    .dataframe tbody tr th:only-of-type {\n",
       "        vertical-align: middle;\n",
       "    }\n",
       "\n",
       "    .dataframe tbody tr th {\n",
       "        vertical-align: top;\n",
       "    }\n",
       "\n",
       "    .dataframe thead th {\n",
       "        text-align: right;\n",
       "    }\n",
       "</style>\n",
       "<table border=\"1\" class=\"dataframe\">\n",
       "  <thead>\n",
       "    <tr style=\"text-align: right;\">\n",
       "      <th></th>\n",
       "      <th>gender</th>\n",
       "      <th>race/ethnicity</th>\n",
       "      <th>parental level of education</th>\n",
       "      <th>lunch</th>\n",
       "      <th>test preparation course</th>\n",
       "      <th>gender_cat</th>\n",
       "      <th>race/ethnicity_cat</th>\n",
       "      <th>parental level of education_cat</th>\n",
       "      <th>lunch_cat</th>\n",
       "      <th>test preparation course_cat</th>\n",
       "    </tr>\n",
       "  </thead>\n",
       "  <tbody>\n",
       "    <tr>\n",
       "      <th>0</th>\n",
       "      <td>female</td>\n",
       "      <td>group B</td>\n",
       "      <td>bachelor's degree</td>\n",
       "      <td>standard</td>\n",
       "      <td>none</td>\n",
       "      <td>0</td>\n",
       "      <td>1</td>\n",
       "      <td>1</td>\n",
       "      <td>1</td>\n",
       "      <td>1</td>\n",
       "    </tr>\n",
       "    <tr>\n",
       "      <th>1</th>\n",
       "      <td>female</td>\n",
       "      <td>group C</td>\n",
       "      <td>some college</td>\n",
       "      <td>standard</td>\n",
       "      <td>completed</td>\n",
       "      <td>0</td>\n",
       "      <td>2</td>\n",
       "      <td>4</td>\n",
       "      <td>1</td>\n",
       "      <td>0</td>\n",
       "    </tr>\n",
       "    <tr>\n",
       "      <th>2</th>\n",
       "      <td>female</td>\n",
       "      <td>group B</td>\n",
       "      <td>master's degree</td>\n",
       "      <td>standard</td>\n",
       "      <td>none</td>\n",
       "      <td>0</td>\n",
       "      <td>1</td>\n",
       "      <td>3</td>\n",
       "      <td>1</td>\n",
       "      <td>1</td>\n",
       "    </tr>\n",
       "    <tr>\n",
       "      <th>3</th>\n",
       "      <td>male</td>\n",
       "      <td>group A</td>\n",
       "      <td>associate's degree</td>\n",
       "      <td>free/reduced</td>\n",
       "      <td>none</td>\n",
       "      <td>1</td>\n",
       "      <td>0</td>\n",
       "      <td>0</td>\n",
       "      <td>0</td>\n",
       "      <td>1</td>\n",
       "    </tr>\n",
       "    <tr>\n",
       "      <th>4</th>\n",
       "      <td>male</td>\n",
       "      <td>group C</td>\n",
       "      <td>some college</td>\n",
       "      <td>standard</td>\n",
       "      <td>none</td>\n",
       "      <td>1</td>\n",
       "      <td>2</td>\n",
       "      <td>4</td>\n",
       "      <td>1</td>\n",
       "      <td>1</td>\n",
       "    </tr>\n",
       "  </tbody>\n",
       "</table>\n",
       "</div>"
      ],
      "text/plain": [
       "   gender race/ethnicity parental level of education         lunch  \\\n",
       "0  female        group B           bachelor's degree      standard   \n",
       "1  female        group C                some college      standard   \n",
       "2  female        group B             master's degree      standard   \n",
       "3    male        group A          associate's degree  free/reduced   \n",
       "4    male        group C                some college      standard   \n",
       "\n",
       "  test preparation course  gender_cat  race/ethnicity_cat  \\\n",
       "0                    none           0                   1   \n",
       "1               completed           0                   2   \n",
       "2                    none           0                   1   \n",
       "3                    none           1                   0   \n",
       "4                    none           1                   2   \n",
       "\n",
       "   parental level of education_cat  lunch_cat  test preparation course_cat  \n",
       "0                                1          1                            1  \n",
       "1                                4          1                            0  \n",
       "2                                3          1                            1  \n",
       "3                                0          0                            1  \n",
       "4                                4          1                            1  "
      ]
     },
     "execution_count": 102,
     "metadata": {},
     "output_type": "execute_result"
    }
   ],
   "source": [
    "obj_df = df.select_dtypes(include=['object'])\n",
    "\n",
    "obj_df['gender'] = obj_df['gender'].astype('category')\n",
    "obj_df['race/ethnicity'] = obj_df['race/ethnicity'].astype('category')\n",
    "obj_df['parental level of education'] = obj_df['parental level of education'].astype('category')\n",
    "obj_df['lunch'] = obj_df['lunch'].astype('category')\n",
    "obj_df['test preparation course'] = obj_df['test preparation course'].astype('category')\n",
    "\n",
    "obj_df[\"gender_cat\"] = obj_df[\"gender\"].cat.codes\n",
    "obj_df[\"race/ethnicity_cat\"] = obj_df[\"race/ethnicity\"].cat.codes\n",
    "obj_df[\"parental level of education_cat\"] = obj_df[\"parental level of education\"].cat.codes\n",
    "obj_df[\"lunch_cat\"] = obj_df[\"lunch\"].cat.codes\n",
    "obj_df[\"test preparation course_cat\"] = obj_df[\"test preparation course\"].cat.codes\n",
    "\n",
    "obj_df.head()"
   ]
  },
  {
   "cell_type": "code",
   "execution_count": 103,
   "metadata": {},
   "outputs": [
    {
     "data": {
      "text/html": [
       "<div>\n",
       "<style scoped>\n",
       "    .dataframe tbody tr th:only-of-type {\n",
       "        vertical-align: middle;\n",
       "    }\n",
       "\n",
       "    .dataframe tbody tr th {\n",
       "        vertical-align: top;\n",
       "    }\n",
       "\n",
       "    .dataframe thead th {\n",
       "        text-align: right;\n",
       "    }\n",
       "</style>\n",
       "<table border=\"1\" class=\"dataframe\">\n",
       "  <thead>\n",
       "    <tr style=\"text-align: right;\">\n",
       "      <th></th>\n",
       "      <th>gender_cat</th>\n",
       "      <th>race/ethnicity_cat</th>\n",
       "      <th>parental level of education_cat</th>\n",
       "      <th>lunch_cat</th>\n",
       "      <th>test preparation course_cat</th>\n",
       "    </tr>\n",
       "  </thead>\n",
       "  <tbody>\n",
       "    <tr>\n",
       "      <th>0</th>\n",
       "      <td>0</td>\n",
       "      <td>1</td>\n",
       "      <td>1</td>\n",
       "      <td>1</td>\n",
       "      <td>1</td>\n",
       "    </tr>\n",
       "    <tr>\n",
       "      <th>1</th>\n",
       "      <td>0</td>\n",
       "      <td>2</td>\n",
       "      <td>4</td>\n",
       "      <td>1</td>\n",
       "      <td>0</td>\n",
       "    </tr>\n",
       "    <tr>\n",
       "      <th>2</th>\n",
       "      <td>0</td>\n",
       "      <td>1</td>\n",
       "      <td>3</td>\n",
       "      <td>1</td>\n",
       "      <td>1</td>\n",
       "    </tr>\n",
       "    <tr>\n",
       "      <th>3</th>\n",
       "      <td>1</td>\n",
       "      <td>0</td>\n",
       "      <td>0</td>\n",
       "      <td>0</td>\n",
       "      <td>1</td>\n",
       "    </tr>\n",
       "    <tr>\n",
       "      <th>4</th>\n",
       "      <td>1</td>\n",
       "      <td>2</td>\n",
       "      <td>4</td>\n",
       "      <td>1</td>\n",
       "      <td>1</td>\n",
       "    </tr>\n",
       "  </tbody>\n",
       "</table>\n",
       "</div>"
      ],
      "text/plain": [
       "   gender_cat  race/ethnicity_cat  parental level of education_cat  lunch_cat  \\\n",
       "0           0                   1                                1          1   \n",
       "1           0                   2                                4          1   \n",
       "2           0                   1                                3          1   \n",
       "3           1                   0                                0          0   \n",
       "4           1                   2                                4          1   \n",
       "\n",
       "   test preparation course_cat  \n",
       "0                            1  \n",
       "1                            0  \n",
       "2                            1  \n",
       "3                            1  \n",
       "4                            1  "
      ]
     },
     "execution_count": 103,
     "metadata": {},
     "output_type": "execute_result"
    }
   ],
   "source": [
    "df_mean_cat = obj_df[['gender_cat','race/ethnicity_cat','parental level of education_cat','lunch_cat','test preparation course_cat']]\n",
    "df_mean_cat.head()"
   ]
  },
  {
   "cell_type": "code",
   "execution_count": 104,
   "metadata": {},
   "outputs": [
    {
     "name": "stderr",
     "output_type": "stream",
     "text": [
      "<ipython-input-104-601c45909cf3>:1: SettingWithCopyWarning: \n",
      "A value is trying to be set on a copy of a slice from a DataFrame.\n",
      "Try using .loc[row_indexer,col_indexer] = value instead\n",
      "\n",
      "See the caveats in the documentation: https://pandas.pydata.org/pandas-docs/stable/user_guide/indexing.html#returning-a-view-versus-a-copy\n",
      "  df_mean_cat['mean results'] = df['mean results']\n"
     ]
    },
    {
     "data": {
      "text/html": [
       "<div>\n",
       "<style scoped>\n",
       "    .dataframe tbody tr th:only-of-type {\n",
       "        vertical-align: middle;\n",
       "    }\n",
       "\n",
       "    .dataframe tbody tr th {\n",
       "        vertical-align: top;\n",
       "    }\n",
       "\n",
       "    .dataframe thead th {\n",
       "        text-align: right;\n",
       "    }\n",
       "</style>\n",
       "<table border=\"1\" class=\"dataframe\">\n",
       "  <thead>\n",
       "    <tr style=\"text-align: right;\">\n",
       "      <th></th>\n",
       "      <th>gender_cat</th>\n",
       "      <th>race/ethnicity_cat</th>\n",
       "      <th>parental level of education_cat</th>\n",
       "      <th>lunch_cat</th>\n",
       "      <th>test preparation course_cat</th>\n",
       "      <th>mean results</th>\n",
       "    </tr>\n",
       "  </thead>\n",
       "  <tbody>\n",
       "    <tr>\n",
       "      <th>0</th>\n",
       "      <td>0</td>\n",
       "      <td>1</td>\n",
       "      <td>1</td>\n",
       "      <td>1</td>\n",
       "      <td>1</td>\n",
       "      <td>73.0</td>\n",
       "    </tr>\n",
       "    <tr>\n",
       "      <th>1</th>\n",
       "      <td>0</td>\n",
       "      <td>2</td>\n",
       "      <td>4</td>\n",
       "      <td>1</td>\n",
       "      <td>0</td>\n",
       "      <td>82.0</td>\n",
       "    </tr>\n",
       "    <tr>\n",
       "      <th>2</th>\n",
       "      <td>0</td>\n",
       "      <td>1</td>\n",
       "      <td>3</td>\n",
       "      <td>1</td>\n",
       "      <td>1</td>\n",
       "      <td>93.0</td>\n",
       "    </tr>\n",
       "    <tr>\n",
       "      <th>3</th>\n",
       "      <td>1</td>\n",
       "      <td>0</td>\n",
       "      <td>0</td>\n",
       "      <td>0</td>\n",
       "      <td>1</td>\n",
       "      <td>49.0</td>\n",
       "    </tr>\n",
       "    <tr>\n",
       "      <th>4</th>\n",
       "      <td>1</td>\n",
       "      <td>2</td>\n",
       "      <td>4</td>\n",
       "      <td>1</td>\n",
       "      <td>1</td>\n",
       "      <td>76.0</td>\n",
       "    </tr>\n",
       "  </tbody>\n",
       "</table>\n",
       "</div>"
      ],
      "text/plain": [
       "   gender_cat  race/ethnicity_cat  parental level of education_cat  lunch_cat  \\\n",
       "0           0                   1                                1          1   \n",
       "1           0                   2                                4          1   \n",
       "2           0                   1                                3          1   \n",
       "3           1                   0                                0          0   \n",
       "4           1                   2                                4          1   \n",
       "\n",
       "   test preparation course_cat  mean results  \n",
       "0                            1          73.0  \n",
       "1                            0          82.0  \n",
       "2                            1          93.0  \n",
       "3                            1          49.0  \n",
       "4                            1          76.0  "
      ]
     },
     "execution_count": 104,
     "metadata": {},
     "output_type": "execute_result"
    }
   ],
   "source": [
    "df_mean_cat['mean results'] = df['mean results']\n",
    "df_mean_cat.head()"
   ]
  },
  {
   "cell_type": "code",
   "execution_count": 105,
   "metadata": {},
   "outputs": [
    {
     "data": {
      "text/html": [
       "<div>\n",
       "<style scoped>\n",
       "    .dataframe tbody tr th:only-of-type {\n",
       "        vertical-align: middle;\n",
       "    }\n",
       "\n",
       "    .dataframe tbody tr th {\n",
       "        vertical-align: top;\n",
       "    }\n",
       "\n",
       "    .dataframe thead th {\n",
       "        text-align: right;\n",
       "    }\n",
       "</style>\n",
       "<table border=\"1\" class=\"dataframe\">\n",
       "  <thead>\n",
       "    <tr style=\"text-align: right;\">\n",
       "      <th></th>\n",
       "      <th>gender_cat</th>\n",
       "      <th>race/ethnicity_cat</th>\n",
       "      <th>parental level of education_cat</th>\n",
       "      <th>lunch_cat</th>\n",
       "      <th>test preparation course_cat</th>\n",
       "      <th>mean results</th>\n",
       "    </tr>\n",
       "  </thead>\n",
       "  <tbody>\n",
       "    <tr>\n",
       "      <th>gender_cat</th>\n",
       "      <td>1.000000</td>\n",
       "      <td>0.001452</td>\n",
       "      <td>-0.000131</td>\n",
       "      <td>0.022824</td>\n",
       "      <td>-0.004512</td>\n",
       "      <td>-0.128842</td>\n",
       "    </tr>\n",
       "    <tr>\n",
       "      <th>race/ethnicity_cat</th>\n",
       "      <td>0.001452</td>\n",
       "      <td>1.000000</td>\n",
       "      <td>-0.026107</td>\n",
       "      <td>0.042116</td>\n",
       "      <td>-0.015746</td>\n",
       "      <td>0.173127</td>\n",
       "    </tr>\n",
       "    <tr>\n",
       "      <th>parental level of education_cat</th>\n",
       "      <td>-0.000131</td>\n",
       "      <td>-0.026107</td>\n",
       "      <td>1.000000</td>\n",
       "      <td>0.009176</td>\n",
       "      <td>-0.024633</td>\n",
       "      <td>-0.072203</td>\n",
       "    </tr>\n",
       "    <tr>\n",
       "      <th>lunch_cat</th>\n",
       "      <td>0.022824</td>\n",
       "      <td>0.042116</td>\n",
       "      <td>0.009176</td>\n",
       "      <td>1.000000</td>\n",
       "      <td>0.017989</td>\n",
       "      <td>0.286516</td>\n",
       "    </tr>\n",
       "    <tr>\n",
       "      <th>test preparation course_cat</th>\n",
       "      <td>-0.004512</td>\n",
       "      <td>-0.015746</td>\n",
       "      <td>-0.024633</td>\n",
       "      <td>0.017989</td>\n",
       "      <td>1.000000</td>\n",
       "      <td>-0.257766</td>\n",
       "    </tr>\n",
       "    <tr>\n",
       "      <th>mean results</th>\n",
       "      <td>-0.128842</td>\n",
       "      <td>0.173127</td>\n",
       "      <td>-0.072203</td>\n",
       "      <td>0.286516</td>\n",
       "      <td>-0.257766</td>\n",
       "      <td>1.000000</td>\n",
       "    </tr>\n",
       "  </tbody>\n",
       "</table>\n",
       "</div>"
      ],
      "text/plain": [
       "                                 gender_cat  race/ethnicity_cat  \\\n",
       "gender_cat                         1.000000            0.001452   \n",
       "race/ethnicity_cat                 0.001452            1.000000   \n",
       "parental level of education_cat   -0.000131           -0.026107   \n",
       "lunch_cat                          0.022824            0.042116   \n",
       "test preparation course_cat       -0.004512           -0.015746   \n",
       "mean results                      -0.128842            0.173127   \n",
       "\n",
       "                                 parental level of education_cat  lunch_cat  \\\n",
       "gender_cat                                             -0.000131   0.022824   \n",
       "race/ethnicity_cat                                     -0.026107   0.042116   \n",
       "parental level of education_cat                         1.000000   0.009176   \n",
       "lunch_cat                                               0.009176   1.000000   \n",
       "test preparation course_cat                            -0.024633   0.017989   \n",
       "mean results                                           -0.072203   0.286516   \n",
       "\n",
       "                                 test preparation course_cat  mean results  \n",
       "gender_cat                                         -0.004512     -0.128842  \n",
       "race/ethnicity_cat                                 -0.015746      0.173127  \n",
       "parental level of education_cat                    -0.024633     -0.072203  \n",
       "lunch_cat                                           0.017989      0.286516  \n",
       "test preparation course_cat                         1.000000     -0.257766  \n",
       "mean results                                       -0.257766      1.000000  "
      ]
     },
     "execution_count": 105,
     "metadata": {},
     "output_type": "execute_result"
    }
   ],
   "source": [
    "df_mean_cat.corr()"
   ]
  },
  {
   "cell_type": "code",
   "execution_count": 106,
   "metadata": {},
   "outputs": [],
   "source": [
    "df['group'].replace({'0 - 9':1,'10 - 19':2 ,'20 - 29':3,'30 - 39':4,'40 - 49':5 ,'50 - 59':6,\n",
    "                    '60 - 69':7,'70 - 79':8,'80 - 89':9 ,'90 - 99':10}, inplace=True)"
   ]
  },
  {
   "cell_type": "code",
   "execution_count": 107,
   "metadata": {},
   "outputs": [],
   "source": [
    "df2 = df_mean_cat[['gender_cat','race/ethnicity_cat','parental level of education_cat','lunch_cat','test preparation course_cat']]"
   ]
  },
  {
   "cell_type": "code",
   "execution_count": 108,
   "metadata": {},
   "outputs": [],
   "source": [
    "df2['group'] = df[['group']]"
   ]
  },
  {
   "cell_type": "code",
   "execution_count": 109,
   "metadata": {},
   "outputs": [
    {
     "data": {
      "text/html": [
       "<div>\n",
       "<style scoped>\n",
       "    .dataframe tbody tr th:only-of-type {\n",
       "        vertical-align: middle;\n",
       "    }\n",
       "\n",
       "    .dataframe tbody tr th {\n",
       "        vertical-align: top;\n",
       "    }\n",
       "\n",
       "    .dataframe thead th {\n",
       "        text-align: right;\n",
       "    }\n",
       "</style>\n",
       "<table border=\"1\" class=\"dataframe\">\n",
       "  <thead>\n",
       "    <tr style=\"text-align: right;\">\n",
       "      <th></th>\n",
       "      <th>gender_cat</th>\n",
       "      <th>race/ethnicity_cat</th>\n",
       "      <th>parental level of education_cat</th>\n",
       "      <th>lunch_cat</th>\n",
       "      <th>test preparation course_cat</th>\n",
       "      <th>group</th>\n",
       "    </tr>\n",
       "  </thead>\n",
       "  <tbody>\n",
       "    <tr>\n",
       "      <th>0</th>\n",
       "      <td>0</td>\n",
       "      <td>1</td>\n",
       "      <td>1</td>\n",
       "      <td>1</td>\n",
       "      <td>1</td>\n",
       "      <td>8</td>\n",
       "    </tr>\n",
       "    <tr>\n",
       "      <th>1</th>\n",
       "      <td>0</td>\n",
       "      <td>2</td>\n",
       "      <td>4</td>\n",
       "      <td>1</td>\n",
       "      <td>0</td>\n",
       "      <td>9</td>\n",
       "    </tr>\n",
       "    <tr>\n",
       "      <th>2</th>\n",
       "      <td>0</td>\n",
       "      <td>1</td>\n",
       "      <td>3</td>\n",
       "      <td>1</td>\n",
       "      <td>1</td>\n",
       "      <td>10</td>\n",
       "    </tr>\n",
       "    <tr>\n",
       "      <th>3</th>\n",
       "      <td>1</td>\n",
       "      <td>0</td>\n",
       "      <td>0</td>\n",
       "      <td>0</td>\n",
       "      <td>1</td>\n",
       "      <td>5</td>\n",
       "    </tr>\n",
       "    <tr>\n",
       "      <th>4</th>\n",
       "      <td>1</td>\n",
       "      <td>2</td>\n",
       "      <td>4</td>\n",
       "      <td>1</td>\n",
       "      <td>1</td>\n",
       "      <td>8</td>\n",
       "    </tr>\n",
       "  </tbody>\n",
       "</table>\n",
       "</div>"
      ],
      "text/plain": [
       "   gender_cat  race/ethnicity_cat  parental level of education_cat  lunch_cat  \\\n",
       "0           0                   1                                1          1   \n",
       "1           0                   2                                4          1   \n",
       "2           0                   1                                3          1   \n",
       "3           1                   0                                0          0   \n",
       "4           1                   2                                4          1   \n",
       "\n",
       "   test preparation course_cat  group  \n",
       "0                            1      8  \n",
       "1                            0      9  \n",
       "2                            1     10  \n",
       "3                            1      5  \n",
       "4                            1      8  "
      ]
     },
     "execution_count": 109,
     "metadata": {},
     "output_type": "execute_result"
    }
   ],
   "source": [
    "df2.head()"
   ]
  },
  {
   "cell_type": "markdown",
   "metadata": {},
   "source": [
    "### 1. Multivariate Logistic Regression"
   ]
  },
  {
   "cell_type": "code",
   "execution_count": 110,
   "metadata": {},
   "outputs": [
    {
     "name": "stdout",
     "output_type": "stream",
     "text": [
      "logisticRegression Accuracy:  0.315\n"
     ]
    },
    {
     "name": "stderr",
     "output_type": "stream",
     "text": [
      "C:\\Users\\Sergio\\anaconda3\\lib\\site-packages\\sklearn\\utils\\validation.py:73: DataConversionWarning: A column-vector y was passed when a 1d array was expected. Please change the shape of y to (n_samples, ), for example using ravel().\n",
      "  return f(**kwargs)\n"
     ]
    }
   ],
   "source": [
    "from sklearn.preprocessing import StandardScaler\n",
    "from sklearn.model_selection import train_test_split\n",
    "from sklearn.linear_model import LogisticRegression\n",
    "\n",
    "# Creating X and y arrays\n",
    "X = df2[['gender_cat','race/ethnicity_cat','parental level of education_cat','lunch_cat','test preparation course_cat']].values\n",
    "y = df2[['group']].values.astype(int)\n",
    "\n",
    "# Normalizing X\n",
    "X = StandardScaler().fit(X).transform(X)\n",
    "\n",
    "# Setting training and test data from the dataset\n",
    "X_train, X_test, y_train, y_test = train_test_split(X, y, test_size = 0.2, shuffle=True);\n",
    "\n",
    "# Fitting the classification model\n",
    "clf = LogisticRegression(multi_class = 'multinomial').fit(X_train, y_train)\n",
    "\n",
    "# Predicted values from X_test\n",
    "y_hat = clf.predict(X_test)\n",
    "\n",
    "# Metrics\n",
    "from sklearn.metrics import accuracy_score\n",
    "print(\"logisticRegression Accuracy: \", accuracy_score(y_test, y_hat))"
   ]
  },
  {
   "cell_type": "markdown",
   "metadata": {},
   "source": [
    "### 2. Multivariate linear regression"
   ]
  },
  {
   "cell_type": "code",
   "execution_count": 133,
   "metadata": {},
   "outputs": [
    {
     "name": "stdout",
     "output_type": "stream",
     "text": [
      "74.0\n"
     ]
    },
    {
     "data": {
      "image/png": "[encoded data removed]",
      "text/plain": [
       "<Figure size 432x288 with 1 Axes>"
      ]
     },
     "metadata": {
      "needs_background": "light"
     },
     "output_type": "display_data"
    },
    {
     "data": {
      "image/png": "[encoded data removed]",
      "text/plain": [
       "<Figure size 432x288 with 1 Axes>"
      ]
     },
     "metadata": {
      "needs_background": "light"
     },
     "output_type": "display_data"
    }
   ],
   "source": [
    "from sklearn.linear_model import LinearRegression\n",
    "\n",
    "# Linear model setting, fitting and predicted values\n",
    "lr = LinearRegression();\n",
    "lr = lr.fit(X_train,y_train);\n",
    "\n",
    "y_hat = lr.predict(X_test);\n",
    "\n",
    "# Results obtained and plotting\n",
    "results = (y_test - y_hat).round();\n",
    "aa = (results == 0).sum()+(results == -1).sum()+(results == 1).sum()\n",
    "bb = ((aa/(200))*100).round()\n",
    "print(bb)\n",
    "xx = np.linspace(0,200,num=200);\n",
    "\n",
    "plt.plot(xx,results)\n",
    "plt.show()\n",
    "\n",
    "plt.hist(results)\n",
    "plt.show()"
   ]
  },
  {
   "cell_type": "code",
   "execution_count": 113,
   "metadata": {},
   "outputs": [
    {
     "name": "stdout",
     "output_type": "stream",
     "text": [
      "[0.19168886] [0.8375213]\n"
     ]
    }
   ],
   "source": [
    "# Calculating R**2 and R**2 adjusted\n",
    "SS_Residual = sum((y_test-y_hat)**2)       \n",
    "SS_Total = sum((y_test-np.mean(y))**2)     \n",
    "r_squared = 1 - (float(SS_Residual))/SS_Total\n",
    "adjusted_r_squared = 1 - (1-r_squared)*(len(y_test)-1)/(len(y)-X_test.shape[1]-1)\n",
    "print(r_squared, adjusted_r_squared)"
   ]
  }
 ],
 "metadata": {
  "kernelspec": {
   "display_name": "Python 3",
   "language": "python",
   "name": "python3"
  },
  "language_info": {
   "codemirror_mode": {
    "name": "ipython",
    "version": 3
   },
   "file_extension": ".py",
   "mimetype": "text/x-python",
   "name": "python",
   "nbconvert_exporter": "python",
   "pygments_lexer": "ipython3",
   "version": "3.8.3"
  }
 },
 "nbformat": 4,
 "nbformat_minor": 4
}
