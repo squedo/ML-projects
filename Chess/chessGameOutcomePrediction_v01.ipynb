{
 "cells": [
  {
   "cell_type": "code",
   "execution_count": 11,
   "metadata": {},
   "outputs": [],
   "source": [
    "import pandas as pd\n",
    "import numpy as np\n",
    "import matplotlib.pyplot as plt"
   ]
  },
  {
   "cell_type": "code",
   "execution_count": 106,
   "metadata": {},
   "outputs": [],
   "source": [
    "df = pd.read_csv('games.csv')"
   ]
  },
  {
   "cell_type": "code",
   "execution_count": 107,
   "metadata": {},
   "outputs": [
    {
     "data": {
      "text/plain": [
       "(20058, 16)"
      ]
     },
     "execution_count": 107,
     "metadata": {},
     "output_type": "execute_result"
    }
   ],
   "source": [
    "df.shape"
   ]
  },
  {
   "cell_type": "code",
   "execution_count": 108,
   "metadata": {},
   "outputs": [
    {
     "data": {
      "text/html": [
       "<div>\n",
       "<style scoped>\n",
       "    .dataframe tbody tr th:only-of-type {\n",
       "        vertical-align: middle;\n",
       "    }\n",
       "\n",
       "    .dataframe tbody tr th {\n",
       "        vertical-align: top;\n",
       "    }\n",
       "\n",
       "    .dataframe thead th {\n",
       "        text-align: right;\n",
       "    }\n",
       "</style>\n",
       "<table border=\"1\" class=\"dataframe\">\n",
       "  <thead>\n",
       "    <tr style=\"text-align: right;\">\n",
       "      <th></th>\n",
       "      <th>id</th>\n",
       "      <th>rated</th>\n",
       "      <th>created_at</th>\n",
       "      <th>last_move_at</th>\n",
       "      <th>turns</th>\n",
       "      <th>victory_status</th>\n",
       "      <th>winner</th>\n",
       "      <th>increment_code</th>\n",
       "      <th>white_id</th>\n",
       "      <th>white_rating</th>\n",
       "      <th>black_id</th>\n",
       "      <th>black_rating</th>\n",
       "      <th>moves</th>\n",
       "      <th>opening_eco</th>\n",
       "      <th>opening_name</th>\n",
       "      <th>opening_ply</th>\n",
       "    </tr>\n",
       "  </thead>\n",
       "  <tbody>\n",
       "    <tr>\n",
       "      <th>0</th>\n",
       "      <td>TZJHLljE</td>\n",
       "      <td>False</td>\n",
       "      <td>1.504210e+12</td>\n",
       "      <td>1.504210e+12</td>\n",
       "      <td>13</td>\n",
       "      <td>outoftime</td>\n",
       "      <td>white</td>\n",
       "      <td>15+2</td>\n",
       "      <td>bourgris</td>\n",
       "      <td>1500</td>\n",
       "      <td>a-00</td>\n",
       "      <td>1191</td>\n",
       "      <td>d4 d5 c4 c6 cxd5 e6 dxe6 fxe6 Nf3 Bb4+ Nc3 Ba5...</td>\n",
       "      <td>D10</td>\n",
       "      <td>Slav Defense: Exchange Variation</td>\n",
       "      <td>5</td>\n",
       "    </tr>\n",
       "    <tr>\n",
       "      <th>1</th>\n",
       "      <td>l1NXvwaE</td>\n",
       "      <td>True</td>\n",
       "      <td>1.504130e+12</td>\n",
       "      <td>1.504130e+12</td>\n",
       "      <td>16</td>\n",
       "      <td>resign</td>\n",
       "      <td>black</td>\n",
       "      <td>5+10</td>\n",
       "      <td>a-00</td>\n",
       "      <td>1322</td>\n",
       "      <td>skinnerua</td>\n",
       "      <td>1261</td>\n",
       "      <td>d4 Nc6 e4 e5 f4 f6 dxe5 fxe5 fxe5 Nxe5 Qd4 Nc6...</td>\n",
       "      <td>B00</td>\n",
       "      <td>Nimzowitsch Defense: Kennedy Variation</td>\n",
       "      <td>4</td>\n",
       "    </tr>\n",
       "    <tr>\n",
       "      <th>2</th>\n",
       "      <td>mIICvQHh</td>\n",
       "      <td>True</td>\n",
       "      <td>1.504130e+12</td>\n",
       "      <td>1.504130e+12</td>\n",
       "      <td>61</td>\n",
       "      <td>mate</td>\n",
       "      <td>white</td>\n",
       "      <td>5+10</td>\n",
       "      <td>ischia</td>\n",
       "      <td>1496</td>\n",
       "      <td>a-00</td>\n",
       "      <td>1500</td>\n",
       "      <td>e4 e5 d3 d6 Be3 c6 Be2 b5 Nd2 a5 a4 c5 axb5 Nc...</td>\n",
       "      <td>C20</td>\n",
       "      <td>King's Pawn Game: Leonardis Variation</td>\n",
       "      <td>3</td>\n",
       "    </tr>\n",
       "    <tr>\n",
       "      <th>3</th>\n",
       "      <td>kWKvrqYL</td>\n",
       "      <td>True</td>\n",
       "      <td>1.504110e+12</td>\n",
       "      <td>1.504110e+12</td>\n",
       "      <td>61</td>\n",
       "      <td>mate</td>\n",
       "      <td>white</td>\n",
       "      <td>20+0</td>\n",
       "      <td>daniamurashov</td>\n",
       "      <td>1439</td>\n",
       "      <td>adivanov2009</td>\n",
       "      <td>1454</td>\n",
       "      <td>d4 d5 Nf3 Bf5 Nc3 Nf6 Bf4 Ng4 e3 Nc6 Be2 Qd7 O...</td>\n",
       "      <td>D02</td>\n",
       "      <td>Queen's Pawn Game: Zukertort Variation</td>\n",
       "      <td>3</td>\n",
       "    </tr>\n",
       "    <tr>\n",
       "      <th>4</th>\n",
       "      <td>9tXo1AUZ</td>\n",
       "      <td>True</td>\n",
       "      <td>1.504030e+12</td>\n",
       "      <td>1.504030e+12</td>\n",
       "      <td>95</td>\n",
       "      <td>mate</td>\n",
       "      <td>white</td>\n",
       "      <td>30+3</td>\n",
       "      <td>nik221107</td>\n",
       "      <td>1523</td>\n",
       "      <td>adivanov2009</td>\n",
       "      <td>1469</td>\n",
       "      <td>e4 e5 Nf3 d6 d4 Nc6 d5 Nb4 a3 Na6 Nc3 Be7 b4 N...</td>\n",
       "      <td>C41</td>\n",
       "      <td>Philidor Defense</td>\n",
       "      <td>5</td>\n",
       "    </tr>\n",
       "  </tbody>\n",
       "</table>\n",
       "</div>"
      ],
      "text/plain": [
       "         id  rated    created_at  last_move_at  turns victory_status winner  \\\n",
       "0  TZJHLljE  False  1.504210e+12  1.504210e+12     13      outoftime  white   \n",
       "1  l1NXvwaE   True  1.504130e+12  1.504130e+12     16         resign  black   \n",
       "2  mIICvQHh   True  1.504130e+12  1.504130e+12     61           mate  white   \n",
       "3  kWKvrqYL   True  1.504110e+12  1.504110e+12     61           mate  white   \n",
       "4  9tXo1AUZ   True  1.504030e+12  1.504030e+12     95           mate  white   \n",
       "\n",
       "  increment_code       white_id  white_rating      black_id  black_rating  \\\n",
       "0           15+2       bourgris          1500          a-00          1191   \n",
       "1           5+10           a-00          1322     skinnerua          1261   \n",
       "2           5+10         ischia          1496          a-00          1500   \n",
       "3           20+0  daniamurashov          1439  adivanov2009          1454   \n",
       "4           30+3      nik221107          1523  adivanov2009          1469   \n",
       "\n",
       "                                               moves opening_eco  \\\n",
       "0  d4 d5 c4 c6 cxd5 e6 dxe6 fxe6 Nf3 Bb4+ Nc3 Ba5...         D10   \n",
       "1  d4 Nc6 e4 e5 f4 f6 dxe5 fxe5 fxe5 Nxe5 Qd4 Nc6...         B00   \n",
       "2  e4 e5 d3 d6 Be3 c6 Be2 b5 Nd2 a5 a4 c5 axb5 Nc...         C20   \n",
       "3  d4 d5 Nf3 Bf5 Nc3 Nf6 Bf4 Ng4 e3 Nc6 Be2 Qd7 O...         D02   \n",
       "4  e4 e5 Nf3 d6 d4 Nc6 d5 Nb4 a3 Na6 Nc3 Be7 b4 N...         C41   \n",
       "\n",
       "                             opening_name  opening_ply  \n",
       "0        Slav Defense: Exchange Variation            5  \n",
       "1  Nimzowitsch Defense: Kennedy Variation            4  \n",
       "2   King's Pawn Game: Leonardis Variation            3  \n",
       "3  Queen's Pawn Game: Zukertort Variation            3  \n",
       "4                        Philidor Defense            5  "
      ]
     },
     "execution_count": 108,
     "metadata": {},
     "output_type": "execute_result"
    }
   ],
   "source": [
    "df.head()"
   ]
  },
  {
   "cell_type": "code",
   "execution_count": 109,
   "metadata": {},
   "outputs": [],
   "source": [
    "toDrop = ['id','created_at','last_move_at','opening_name','moves','opening_ply','white_id','black_id','victory_status']\n",
    "df.drop(columns = toDrop,inplace=True)"
   ]
  },
  {
   "cell_type": "code",
   "execution_count": 110,
   "metadata": {},
   "outputs": [
    {
     "data": {
      "text/plain": [
       "rated             0\n",
       "turns             0\n",
       "winner            0\n",
       "increment_code    0\n",
       "white_rating      0\n",
       "black_rating      0\n",
       "opening_eco       0\n",
       "dtype: int64"
      ]
     },
     "execution_count": 110,
     "metadata": {},
     "output_type": "execute_result"
    }
   ],
   "source": [
    "df.isna().sum()"
   ]
  },
  {
   "cell_type": "code",
   "execution_count": 111,
   "metadata": {},
   "outputs": [
    {
     "data": {
      "text/html": [
       "<div>\n",
       "<style scoped>\n",
       "    .dataframe tbody tr th:only-of-type {\n",
       "        vertical-align: middle;\n",
       "    }\n",
       "\n",
       "    .dataframe tbody tr th {\n",
       "        vertical-align: top;\n",
       "    }\n",
       "\n",
       "    .dataframe thead th {\n",
       "        text-align: right;\n",
       "    }\n",
       "</style>\n",
       "<table border=\"1\" class=\"dataframe\">\n",
       "  <thead>\n",
       "    <tr style=\"text-align: right;\">\n",
       "      <th></th>\n",
       "      <th>rated</th>\n",
       "      <th>turns</th>\n",
       "      <th>winner</th>\n",
       "      <th>increment_code</th>\n",
       "      <th>white_rating</th>\n",
       "      <th>black_rating</th>\n",
       "      <th>opening_eco</th>\n",
       "    </tr>\n",
       "  </thead>\n",
       "  <tbody>\n",
       "    <tr>\n",
       "      <th>0</th>\n",
       "      <td>False</td>\n",
       "      <td>13</td>\n",
       "      <td>white</td>\n",
       "      <td>15+2</td>\n",
       "      <td>1500</td>\n",
       "      <td>1191</td>\n",
       "      <td>D10</td>\n",
       "    </tr>\n",
       "    <tr>\n",
       "      <th>1</th>\n",
       "      <td>True</td>\n",
       "      <td>16</td>\n",
       "      <td>black</td>\n",
       "      <td>5+10</td>\n",
       "      <td>1322</td>\n",
       "      <td>1261</td>\n",
       "      <td>B00</td>\n",
       "    </tr>\n",
       "    <tr>\n",
       "      <th>2</th>\n",
       "      <td>True</td>\n",
       "      <td>61</td>\n",
       "      <td>white</td>\n",
       "      <td>5+10</td>\n",
       "      <td>1496</td>\n",
       "      <td>1500</td>\n",
       "      <td>C20</td>\n",
       "    </tr>\n",
       "    <tr>\n",
       "      <th>3</th>\n",
       "      <td>True</td>\n",
       "      <td>61</td>\n",
       "      <td>white</td>\n",
       "      <td>20+0</td>\n",
       "      <td>1439</td>\n",
       "      <td>1454</td>\n",
       "      <td>D02</td>\n",
       "    </tr>\n",
       "    <tr>\n",
       "      <th>4</th>\n",
       "      <td>True</td>\n",
       "      <td>95</td>\n",
       "      <td>white</td>\n",
       "      <td>30+3</td>\n",
       "      <td>1523</td>\n",
       "      <td>1469</td>\n",
       "      <td>C41</td>\n",
       "    </tr>\n",
       "  </tbody>\n",
       "</table>\n",
       "</div>"
      ],
      "text/plain": [
       "   rated  turns winner increment_code  white_rating  black_rating opening_eco\n",
       "0  False     13  white           15+2          1500          1191         D10\n",
       "1   True     16  black           5+10          1322          1261         B00\n",
       "2   True     61  white           5+10          1496          1500         C20\n",
       "3   True     61  white           20+0          1439          1454         D02\n",
       "4   True     95  white           30+3          1523          1469         C41"
      ]
     },
     "execution_count": 111,
     "metadata": {},
     "output_type": "execute_result"
    }
   ],
   "source": [
    "df.head()"
   ]
  },
  {
   "cell_type": "code",
   "execution_count": 112,
   "metadata": {},
   "outputs": [],
   "source": [
    "df = df[['rated','increment_code','white_rating','black_rating','opening_eco','turns','winner']]"
   ]
  },
  {
   "cell_type": "code",
   "execution_count": 113,
   "metadata": {},
   "outputs": [
    {
     "data": {
      "text/html": [
       "<div>\n",
       "<style scoped>\n",
       "    .dataframe tbody tr th:only-of-type {\n",
       "        vertical-align: middle;\n",
       "    }\n",
       "\n",
       "    .dataframe tbody tr th {\n",
       "        vertical-align: top;\n",
       "    }\n",
       "\n",
       "    .dataframe thead th {\n",
       "        text-align: right;\n",
       "    }\n",
       "</style>\n",
       "<table border=\"1\" class=\"dataframe\">\n",
       "  <thead>\n",
       "    <tr style=\"text-align: right;\">\n",
       "      <th></th>\n",
       "      <th>rated</th>\n",
       "      <th>increment_code</th>\n",
       "      <th>white_rating</th>\n",
       "      <th>black_rating</th>\n",
       "      <th>opening_eco</th>\n",
       "      <th>turns</th>\n",
       "      <th>winner</th>\n",
       "    </tr>\n",
       "  </thead>\n",
       "  <tbody>\n",
       "    <tr>\n",
       "      <th>0</th>\n",
       "      <td>False</td>\n",
       "      <td>15+2</td>\n",
       "      <td>1500</td>\n",
       "      <td>1191</td>\n",
       "      <td>D10</td>\n",
       "      <td>13</td>\n",
       "      <td>white</td>\n",
       "    </tr>\n",
       "    <tr>\n",
       "      <th>1</th>\n",
       "      <td>True</td>\n",
       "      <td>5+10</td>\n",
       "      <td>1322</td>\n",
       "      <td>1261</td>\n",
       "      <td>B00</td>\n",
       "      <td>16</td>\n",
       "      <td>black</td>\n",
       "    </tr>\n",
       "    <tr>\n",
       "      <th>2</th>\n",
       "      <td>True</td>\n",
       "      <td>5+10</td>\n",
       "      <td>1496</td>\n",
       "      <td>1500</td>\n",
       "      <td>C20</td>\n",
       "      <td>61</td>\n",
       "      <td>white</td>\n",
       "    </tr>\n",
       "    <tr>\n",
       "      <th>3</th>\n",
       "      <td>True</td>\n",
       "      <td>20+0</td>\n",
       "      <td>1439</td>\n",
       "      <td>1454</td>\n",
       "      <td>D02</td>\n",
       "      <td>61</td>\n",
       "      <td>white</td>\n",
       "    </tr>\n",
       "    <tr>\n",
       "      <th>4</th>\n",
       "      <td>True</td>\n",
       "      <td>30+3</td>\n",
       "      <td>1523</td>\n",
       "      <td>1469</td>\n",
       "      <td>C41</td>\n",
       "      <td>95</td>\n",
       "      <td>white</td>\n",
       "    </tr>\n",
       "  </tbody>\n",
       "</table>\n",
       "</div>"
      ],
      "text/plain": [
       "   rated increment_code  white_rating  black_rating opening_eco  turns winner\n",
       "0  False           15+2          1500          1191         D10     13  white\n",
       "1   True           5+10          1322          1261         B00     16  black\n",
       "2   True           5+10          1496          1500         C20     61  white\n",
       "3   True           20+0          1439          1454         D02     61  white\n",
       "4   True           30+3          1523          1469         C41     95  white"
      ]
     },
     "execution_count": 113,
     "metadata": {},
     "output_type": "execute_result"
    }
   ],
   "source": [
    "df.head()"
   ]
  },
  {
   "cell_type": "code",
   "execution_count": 114,
   "metadata": {},
   "outputs": [
    {
     "data": {
      "text/plain": [
       "winner  rated\n",
       "black   False    1723\n",
       "        True     7384\n",
       "draw    False     231\n",
       "        True      719\n",
       "white   False    1949\n",
       "        True     8052\n",
       "dtype: int64"
      ]
     },
     "execution_count": 114,
     "metadata": {},
     "output_type": "execute_result"
    }
   ],
   "source": [
    "df.groupby(['winner','rated']).size()"
   ]
  },
  {
   "cell_type": "code",
   "execution_count": 115,
   "metadata": {},
   "outputs": [
    {
     "data": {
      "text/plain": [
       "True     16155\n",
       "False     3903\n",
       "Name: rated, dtype: int64"
      ]
     },
     "execution_count": 115,
     "metadata": {},
     "output_type": "execute_result"
    }
   ],
   "source": [
    "df['rated'].value_counts() "
   ]
  },
  {
   "cell_type": "code",
   "execution_count": 116,
   "metadata": {},
   "outputs": [
    {
     "data": {
      "text/plain": [
       "(16155, 7)"
      ]
     },
     "execution_count": 116,
     "metadata": {},
     "output_type": "execute_result"
    }
   ],
   "source": [
    "df_rated = df[df['rated'] == True]\n",
    "df_rated.shape"
   ]
  },
  {
   "cell_type": "code",
   "execution_count": 117,
   "metadata": {},
   "outputs": [
    {
     "data": {
      "text/plain": [
       "(3903, 7)"
      ]
     },
     "execution_count": 117,
     "metadata": {},
     "output_type": "execute_result"
    }
   ],
   "source": [
    "df_unrated = df[df['rated'] == False]\n",
    "df_unrated.shape"
   ]
  },
  {
   "cell_type": "code",
   "execution_count": 118,
   "metadata": {},
   "outputs": [],
   "source": [
    "df.to_csv('cleanAllGames.csv',index=False)\n",
    "df_rated.to_csv('ratedGames.csv',index=False)\n",
    "df_unrated.to_csv('unratedGames.csv',index=False)"
   ]
  },
  {
   "cell_type": "code",
   "execution_count": 284,
   "metadata": {},
   "outputs": [],
   "source": [
    "df_chess = pd.read_csv('cleanAllGames.csv')"
   ]
  },
  {
   "cell_type": "code",
   "execution_count": 285,
   "metadata": {},
   "outputs": [
    {
     "data": {
      "text/plain": [
       "(20058, 7)"
      ]
     },
     "execution_count": 285,
     "metadata": {},
     "output_type": "execute_result"
    }
   ],
   "source": [
    "df_chess.shape"
   ]
  },
  {
   "cell_type": "code",
   "execution_count": 286,
   "metadata": {},
   "outputs": [
    {
     "data": {
      "text/plain": [
       "rated               bool\n",
       "increment_code    object\n",
       "white_rating       int64\n",
       "black_rating       int64\n",
       "opening_eco       object\n",
       "turns              int64\n",
       "winner            object\n",
       "dtype: object"
      ]
     },
     "execution_count": 286,
     "metadata": {},
     "output_type": "execute_result"
    }
   ],
   "source": [
    "df_chess.dtypes"
   ]
  },
  {
   "cell_type": "code",
   "execution_count": 287,
   "metadata": {},
   "outputs": [],
   "source": [
    "df_chess['rated'] = df_chess['rated'].astype(int)"
   ]
  },
  {
   "cell_type": "code",
   "execution_count": 288,
   "metadata": {},
   "outputs": [],
   "source": [
    "df_chess['winner'].replace({'black':0 , 'draw':1 , 'white':2},inplace=True)"
   ]
  },
  {
   "cell_type": "code",
   "execution_count": 289,
   "metadata": {},
   "outputs": [
    {
     "data": {
      "text/html": [
       "<div>\n",
       "<style scoped>\n",
       "    .dataframe tbody tr th:only-of-type {\n",
       "        vertical-align: middle;\n",
       "    }\n",
       "\n",
       "    .dataframe tbody tr th {\n",
       "        vertical-align: top;\n",
       "    }\n",
       "\n",
       "    .dataframe thead th {\n",
       "        text-align: right;\n",
       "    }\n",
       "</style>\n",
       "<table border=\"1\" class=\"dataframe\">\n",
       "  <thead>\n",
       "    <tr style=\"text-align: right;\">\n",
       "      <th></th>\n",
       "      <th>rated</th>\n",
       "      <th>increment_code</th>\n",
       "      <th>white_rating</th>\n",
       "      <th>black_rating</th>\n",
       "      <th>opening_eco</th>\n",
       "      <th>turns</th>\n",
       "      <th>winner</th>\n",
       "    </tr>\n",
       "  </thead>\n",
       "  <tbody>\n",
       "    <tr>\n",
       "      <th>0</th>\n",
       "      <td>0</td>\n",
       "      <td>15+2</td>\n",
       "      <td>1500</td>\n",
       "      <td>1191</td>\n",
       "      <td>D10</td>\n",
       "      <td>13</td>\n",
       "      <td>2</td>\n",
       "    </tr>\n",
       "    <tr>\n",
       "      <th>1</th>\n",
       "      <td>1</td>\n",
       "      <td>5+10</td>\n",
       "      <td>1322</td>\n",
       "      <td>1261</td>\n",
       "      <td>B00</td>\n",
       "      <td>16</td>\n",
       "      <td>0</td>\n",
       "    </tr>\n",
       "    <tr>\n",
       "      <th>2</th>\n",
       "      <td>1</td>\n",
       "      <td>5+10</td>\n",
       "      <td>1496</td>\n",
       "      <td>1500</td>\n",
       "      <td>C20</td>\n",
       "      <td>61</td>\n",
       "      <td>2</td>\n",
       "    </tr>\n",
       "    <tr>\n",
       "      <th>3</th>\n",
       "      <td>1</td>\n",
       "      <td>20+0</td>\n",
       "      <td>1439</td>\n",
       "      <td>1454</td>\n",
       "      <td>D02</td>\n",
       "      <td>61</td>\n",
       "      <td>2</td>\n",
       "    </tr>\n",
       "    <tr>\n",
       "      <th>4</th>\n",
       "      <td>1</td>\n",
       "      <td>30+3</td>\n",
       "      <td>1523</td>\n",
       "      <td>1469</td>\n",
       "      <td>C41</td>\n",
       "      <td>95</td>\n",
       "      <td>2</td>\n",
       "    </tr>\n",
       "  </tbody>\n",
       "</table>\n",
       "</div>"
      ],
      "text/plain": [
       "   rated increment_code  white_rating  black_rating opening_eco  turns  winner\n",
       "0      0           15+2          1500          1191         D10     13       2\n",
       "1      1           5+10          1322          1261         B00     16       0\n",
       "2      1           5+10          1496          1500         C20     61       2\n",
       "3      1           20+0          1439          1454         D02     61       2\n",
       "4      1           30+3          1523          1469         C41     95       2"
      ]
     },
     "execution_count": 289,
     "metadata": {},
     "output_type": "execute_result"
    }
   ],
   "source": [
    "df_chess.head()"
   ]
  },
  {
   "cell_type": "code",
   "execution_count": 290,
   "metadata": {},
   "outputs": [
    {
     "data": {
      "text/plain": [
       "winner  turns\n",
       "0       1          2\n",
       "        2        108\n",
       "        3         13\n",
       "        4         36\n",
       "        5          3\n",
       "                ... \n",
       "2       189        3\n",
       "        193        1\n",
       "        205        1\n",
       "        209        2\n",
       "        349        2\n",
       "Length: 528, dtype: int64"
      ]
     },
     "execution_count": 290,
     "metadata": {},
     "output_type": "execute_result"
    }
   ],
   "source": [
    "df_chess.groupby(['winner','turns']).size()"
   ]
  },
  {
   "cell_type": "code",
   "execution_count": 291,
   "metadata": {},
   "outputs": [
    {
     "data": {
      "text/plain": [
       "array(['15+2', '5+10', '20+0', '30+3', '10+0', '15+30', '15+0', '20+60',\n",
       "       '5+40', '8+0', '15+15', '15+16', '11+0', '30+60', '15+5', '10+10',\n",
       "       '15+3', '18+0', '30+30', '20+25', '5+5', '30+0', '40+40', '16+0',\n",
       "       '6+10', '8+10', '8+12', '7+12', '15+10', '20+5', '20+10', '45+0',\n",
       "       '5+8', '30+2', '25+0', '10+2', '7+2', '25+25', '7+8', '6+6',\n",
       "       '10+4', '12+0', '15+1', '2+10', '9+0', '10+9', '6+7', '30+10',\n",
       "       '30+15', '10+3', '45+30', '9+2', '7+3', '6+5', '25+5', '5+7',\n",
       "       '8+2', '20+8', '30+5', '25+15', '15+7', '8+8', '5+9', '16+7',\n",
       "       '10+7', '7+5', '40+20', '10+5', '11+5', '10+15', '180+0', '17+5',\n",
       "       '8+5', '3+8', '60+120', '90+120', '15+8', '9+1', '9+3', '2+15',\n",
       "       '10+1', '5+12', '60+10', '5+60', '8+15', '30+25', '12+1', '14+0',\n",
       "       '60+20', '10+8', '20+3', '14+12', '7+7', '60+0', '45+45', '4+15',\n",
       "       '5+6', '180+180', '8+3', '4+6', '10+25', '3+10', '7+4', '6+3',\n",
       "       '5+15', '45+15', '15+20', '6+8', '6+9', '14+8', '6+4', '15+4',\n",
       "       '9+20', '20+15', '20+2', '9+10', '8+7', '13+1', '150+180', '3+12',\n",
       "       '7+10', '10+60', '5+30', '20+30', '14+10', '25+10', '8+1', '19+0',\n",
       "       '9+12', '20+1', '0+25', '0+15', '15+6', '8+6', '10+6', '25+8',\n",
       "       '15+14', '20+20', '13+10', '3+9', '17+11', '12+5', '12+2', '7+25',\n",
       "       '20+7', '12+6', '25+30', '15+45', '25+3', '17+1', '30+1', '17+8',\n",
       "       '17+3', '45+10', '8+25', '19+19', '12+8', '9+9', '15+60', '5+20',\n",
       "       '30+6', '12+12', '30+12', '25+2', '40+10', '16+2', '90+0', '30+11',\n",
       "       '4+10', '12+13', '11+8', '60+4', '10+30', '60+3', '20+6', '1+30',\n",
       "       '90+30', '4+8', '40+0', '17+2', '180+8', '12+10', '16+1', '1+10',\n",
       "       '7+14', '3+15', '60+60', '13+3', '45+4', '45+5', '10+180', '120+0',\n",
       "       '30+7', '14+4', '13+2', '6+20', '180+60', '60+30', '40+30',\n",
       "       '30+35', '10+11', '1+12', '11+11', '18+5', '8+9', '15+11', '9+5',\n",
       "       '19+17', '14+14', '17+15', '7+6', '40+2', '10+20', '12+9', '14+17',\n",
       "       '14+20', '10+13', '30+8', '30+9', '30+4', '30+20', '5+180', '7+9',\n",
       "       '5+13', '30+45', '25+4', '25+1', '12+4', '11+4', '13+0', '60+5',\n",
       "       '9+11', '1+15', '12+3', '2+16', '13+5', '20+4', '40+1', '17+16',\n",
       "       '11+10', '1+19', '40+60', '7+35', '16+10', '9+17', '15+12',\n",
       "       '10+12', '35+10', '18+20', '6+15', '19+20', '11+1', '30+150',\n",
       "       '35+3', '17+0', '40+15', '14+6', '20+40', '13+14', '8+4', '180+25',\n",
       "       '2+20', '12+11', '13+13', '16+8', '60+7', '45+1', '20+11', '150+8',\n",
       "       '20+180', '90+5', '9+6', '45+8', '17+90', '18+19', '0+12', '9+4',\n",
       "       '35+0', '7+15', '1+25', '11+3', '17+13', '9+8', '13+12', '16+4',\n",
       "       '19+8', '11+7', '0+180', '14+5', '19+2', '10+35', '4+7', '6+12',\n",
       "       '19+30', '12+20', '29+30', '15+9', '120+1', '180+5', '12+7',\n",
       "       '8+180', '35+15', '17+17', '150+60', '18+18', '18+10', '150+3',\n",
       "       '1+13', '0+16', '5+17', '5+25', '25+17', '18+8', '180+45', '1+45',\n",
       "       '10+45', '20+9', '25+9', '13+20', '1+20', '0+40', '0+20', '14+9',\n",
       "       '40+9', '25+20', '180+150', '180+120', '20+12', '30+16', '20+120',\n",
       "       '2+40', '19+5', '18+15', '19+45', '11+2', '5+21', '19+4', '4+180',\n",
       "       '5+11', '60+13', '40+8', '4+18', '4+12', '21+0', '90+8', '13+7',\n",
       "       '9+7', '14+2', '20+13', '19+3', '60+15', '3+35', '7+11', '2+12',\n",
       "       '8+30', '120+10', '150+0', '5+14', '16+20', '15+25', '120+180',\n",
       "       '60+40', '180+3', '10+40', '30+40', '3+30', '2+9', '7+18', '35+2',\n",
       "       '8+11', '12+15', '1+18', '20+90', '4+20', '35+1', '7+30', '25+12',\n",
       "       '45+2', '13+15', '14+1', '25+6', '16+3', '0+13', '60+1', '11+9',\n",
       "       '19+18', '120+5', '9+15', '0+30', '6+30', '35+35', '3+20', '4+9',\n",
       "       '10+14', '35+8', '13+40', '16+15', '60+180', '8+45', '14+15'],\n",
       "      dtype=object)"
      ]
     },
     "execution_count": 291,
     "metadata": {},
     "output_type": "execute_result"
    }
   ],
   "source": [
    "df_chess['increment_code'].unique()"
   ]
  },
  {
   "cell_type": "code",
   "execution_count": 292,
   "metadata": {},
   "outputs": [],
   "source": [
    "df_chess['game_type'] = df_chess['increment_code'].astype(str).str[0:2]"
   ]
  },
  {
   "cell_type": "code",
   "execution_count": 293,
   "metadata": {},
   "outputs": [
    {
     "data": {
      "text/html": [
       "<div>\n",
       "<style scoped>\n",
       "    .dataframe tbody tr th:only-of-type {\n",
       "        vertical-align: middle;\n",
       "    }\n",
       "\n",
       "    .dataframe tbody tr th {\n",
       "        vertical-align: top;\n",
       "    }\n",
       "\n",
       "    .dataframe thead th {\n",
       "        text-align: right;\n",
       "    }\n",
       "</style>\n",
       "<table border=\"1\" class=\"dataframe\">\n",
       "  <thead>\n",
       "    <tr style=\"text-align: right;\">\n",
       "      <th></th>\n",
       "      <th>rated</th>\n",
       "      <th>increment_code</th>\n",
       "      <th>white_rating</th>\n",
       "      <th>black_rating</th>\n",
       "      <th>opening_eco</th>\n",
       "      <th>turns</th>\n",
       "      <th>winner</th>\n",
       "      <th>game_type</th>\n",
       "    </tr>\n",
       "  </thead>\n",
       "  <tbody>\n",
       "    <tr>\n",
       "      <th>0</th>\n",
       "      <td>0</td>\n",
       "      <td>15+2</td>\n",
       "      <td>1500</td>\n",
       "      <td>1191</td>\n",
       "      <td>D10</td>\n",
       "      <td>13</td>\n",
       "      <td>2</td>\n",
       "      <td>15</td>\n",
       "    </tr>\n",
       "    <tr>\n",
       "      <th>1</th>\n",
       "      <td>1</td>\n",
       "      <td>5+10</td>\n",
       "      <td>1322</td>\n",
       "      <td>1261</td>\n",
       "      <td>B00</td>\n",
       "      <td>16</td>\n",
       "      <td>0</td>\n",
       "      <td>5+</td>\n",
       "    </tr>\n",
       "    <tr>\n",
       "      <th>2</th>\n",
       "      <td>1</td>\n",
       "      <td>5+10</td>\n",
       "      <td>1496</td>\n",
       "      <td>1500</td>\n",
       "      <td>C20</td>\n",
       "      <td>61</td>\n",
       "      <td>2</td>\n",
       "      <td>5+</td>\n",
       "    </tr>\n",
       "    <tr>\n",
       "      <th>3</th>\n",
       "      <td>1</td>\n",
       "      <td>20+0</td>\n",
       "      <td>1439</td>\n",
       "      <td>1454</td>\n",
       "      <td>D02</td>\n",
       "      <td>61</td>\n",
       "      <td>2</td>\n",
       "      <td>20</td>\n",
       "    </tr>\n",
       "    <tr>\n",
       "      <th>4</th>\n",
       "      <td>1</td>\n",
       "      <td>30+3</td>\n",
       "      <td>1523</td>\n",
       "      <td>1469</td>\n",
       "      <td>C41</td>\n",
       "      <td>95</td>\n",
       "      <td>2</td>\n",
       "      <td>30</td>\n",
       "    </tr>\n",
       "  </tbody>\n",
       "</table>\n",
       "</div>"
      ],
      "text/plain": [
       "   rated increment_code  white_rating  black_rating opening_eco  turns  \\\n",
       "0      0           15+2          1500          1191         D10     13   \n",
       "1      1           5+10          1322          1261         B00     16   \n",
       "2      1           5+10          1496          1500         C20     61   \n",
       "3      1           20+0          1439          1454         D02     61   \n",
       "4      1           30+3          1523          1469         C41     95   \n",
       "\n",
       "   winner game_type  \n",
       "0       2        15  \n",
       "1       0        5+  \n",
       "2       2        5+  \n",
       "3       2        20  \n",
       "4       2        30  "
      ]
     },
     "execution_count": 293,
     "metadata": {},
     "output_type": "execute_result"
    }
   ],
   "source": [
    "df_chess.head()"
   ]
  },
  {
   "cell_type": "code",
   "execution_count": 294,
   "metadata": {},
   "outputs": [
    {
     "data": {
      "text/plain": [
       "array(['15', '5+', '20', '30', '10', '8+', '11', '18', '40', '16', '6+',\n",
       "       '7+', '45', '25', '12', '2+', '9+', '17', '3+', '60', '90', '14',\n",
       "       '4+', '13', '19', '0+', '1+', '35', '29', '21'], dtype=object)"
      ]
     },
     "execution_count": 294,
     "metadata": {},
     "output_type": "execute_result"
    }
   ],
   "source": [
    "df_chess['game_type'].unique()"
   ]
  },
  {
   "cell_type": "code",
   "execution_count": 295,
   "metadata": {},
   "outputs": [
    {
     "data": {
      "text/plain": [
       "rated              int32\n",
       "increment_code    object\n",
       "white_rating       int64\n",
       "black_rating       int64\n",
       "opening_eco       object\n",
       "turns              int64\n",
       "winner             int64\n",
       "game_type         object\n",
       "dtype: object"
      ]
     },
     "execution_count": 295,
     "metadata": {},
     "output_type": "execute_result"
    }
   ],
   "source": [
    "df_chess.dtypes"
   ]
  },
  {
   "cell_type": "code",
   "execution_count": 296,
   "metadata": {},
   "outputs": [],
   "source": [
    "df_chess['game_type'].replace({'0+': 'bullet' , '1+':'bullet' , '2+':'bullet' ,'3+':'blitz', '4+':'blitz', '5+':'blitz',\n",
    "                               '6+':'blitz','7+':'blitz','8+':'blitz','9+':'blitz','10':'rapid','11':'rapid','12':'rapid',\n",
    "                               '13':'rapid','14':'rapid','15':'rapid','16':'classical','17':'classical','18':'classical','19':'classical',\n",
    "                               '20':'classical','21':'classical','25':'classical','29':'classical','30':'classical','35':'classical','40':'classical','45':'classical',\n",
    "                               '60':'classical','90':'classical'},inplace=True)\n",
    "                              \n",
    "df_chess['game_type'].replace({'bullet':0,'blitz':1,'rapid':2,'classical':3},inplace=True)"
   ]
  },
  {
   "cell_type": "code",
   "execution_count": 297,
   "metadata": {},
   "outputs": [
    {
     "data": {
      "text/html": [
       "<div>\n",
       "<style scoped>\n",
       "    .dataframe tbody tr th:only-of-type {\n",
       "        vertical-align: middle;\n",
       "    }\n",
       "\n",
       "    .dataframe tbody tr th {\n",
       "        vertical-align: top;\n",
       "    }\n",
       "\n",
       "    .dataframe thead th {\n",
       "        text-align: right;\n",
       "    }\n",
       "</style>\n",
       "<table border=\"1\" class=\"dataframe\">\n",
       "  <thead>\n",
       "    <tr style=\"text-align: right;\">\n",
       "      <th></th>\n",
       "      <th>rated</th>\n",
       "      <th>increment_code</th>\n",
       "      <th>white_rating</th>\n",
       "      <th>black_rating</th>\n",
       "      <th>opening_eco</th>\n",
       "      <th>turns</th>\n",
       "      <th>winner</th>\n",
       "      <th>game_type</th>\n",
       "    </tr>\n",
       "  </thead>\n",
       "  <tbody>\n",
       "    <tr>\n",
       "      <th>0</th>\n",
       "      <td>0</td>\n",
       "      <td>15+2</td>\n",
       "      <td>1500</td>\n",
       "      <td>1191</td>\n",
       "      <td>D10</td>\n",
       "      <td>13</td>\n",
       "      <td>2</td>\n",
       "      <td>2</td>\n",
       "    </tr>\n",
       "    <tr>\n",
       "      <th>1</th>\n",
       "      <td>1</td>\n",
       "      <td>5+10</td>\n",
       "      <td>1322</td>\n",
       "      <td>1261</td>\n",
       "      <td>B00</td>\n",
       "      <td>16</td>\n",
       "      <td>0</td>\n",
       "      <td>1</td>\n",
       "    </tr>\n",
       "    <tr>\n",
       "      <th>2</th>\n",
       "      <td>1</td>\n",
       "      <td>5+10</td>\n",
       "      <td>1496</td>\n",
       "      <td>1500</td>\n",
       "      <td>C20</td>\n",
       "      <td>61</td>\n",
       "      <td>2</td>\n",
       "      <td>1</td>\n",
       "    </tr>\n",
       "    <tr>\n",
       "      <th>3</th>\n",
       "      <td>1</td>\n",
       "      <td>20+0</td>\n",
       "      <td>1439</td>\n",
       "      <td>1454</td>\n",
       "      <td>D02</td>\n",
       "      <td>61</td>\n",
       "      <td>2</td>\n",
       "      <td>3</td>\n",
       "    </tr>\n",
       "    <tr>\n",
       "      <th>4</th>\n",
       "      <td>1</td>\n",
       "      <td>30+3</td>\n",
       "      <td>1523</td>\n",
       "      <td>1469</td>\n",
       "      <td>C41</td>\n",
       "      <td>95</td>\n",
       "      <td>2</td>\n",
       "      <td>3</td>\n",
       "    </tr>\n",
       "  </tbody>\n",
       "</table>\n",
       "</div>"
      ],
      "text/plain": [
       "   rated increment_code  white_rating  black_rating opening_eco  turns  \\\n",
       "0      0           15+2          1500          1191         D10     13   \n",
       "1      1           5+10          1322          1261         B00     16   \n",
       "2      1           5+10          1496          1500         C20     61   \n",
       "3      1           20+0          1439          1454         D02     61   \n",
       "4      1           30+3          1523          1469         C41     95   \n",
       "\n",
       "   winner  game_type  \n",
       "0       2          2  \n",
       "1       0          1  \n",
       "2       2          1  \n",
       "3       2          3  \n",
       "4       2          3  "
      ]
     },
     "execution_count": 297,
     "metadata": {},
     "output_type": "execute_result"
    }
   ],
   "source": [
    "df_chess.head()"
   ]
  },
  {
   "cell_type": "code",
   "execution_count": 298,
   "metadata": {},
   "outputs": [
    {
     "data": {
      "text/plain": [
       "winner  game_type\n",
       "0       0              69\n",
       "        1            1793\n",
       "        2            6107\n",
       "        3            1138\n",
       "1       0               4\n",
       "        1             171\n",
       "        2             599\n",
       "        3             176\n",
       "2       0              58\n",
       "        1            1975\n",
       "        2            6628\n",
       "        3            1340\n",
       "dtype: int64"
      ]
     },
     "execution_count": 298,
     "metadata": {},
     "output_type": "execute_result"
    }
   ],
   "source": [
    "df_chess.groupby(['winner','game_type']).size()"
   ]
  },
  {
   "cell_type": "code",
   "execution_count": 299,
   "metadata": {},
   "outputs": [
    {
     "data": {
      "text/html": [
       "<div>\n",
       "<style scoped>\n",
       "    .dataframe tbody tr th:only-of-type {\n",
       "        vertical-align: middle;\n",
       "    }\n",
       "\n",
       "    .dataframe tbody tr th {\n",
       "        vertical-align: top;\n",
       "    }\n",
       "\n",
       "    .dataframe thead tr th {\n",
       "        text-align: left;\n",
       "    }\n",
       "\n",
       "    .dataframe thead tr:last-of-type th {\n",
       "        text-align: right;\n",
       "    }\n",
       "</style>\n",
       "<table border=\"1\" class=\"dataframe\">\n",
       "  <thead>\n",
       "    <tr>\n",
       "      <th></th>\n",
       "      <th></th>\n",
       "      <th colspan=\"4\" halign=\"left\">rated</th>\n",
       "      <th colspan=\"4\" halign=\"left\">white_rating</th>\n",
       "      <th colspan=\"4\" halign=\"left\">black_rating</th>\n",
       "      <th colspan=\"4\" halign=\"left\">turns</th>\n",
       "    </tr>\n",
       "    <tr>\n",
       "      <th></th>\n",
       "      <th></th>\n",
       "      <th>max</th>\n",
       "      <th>min</th>\n",
       "      <th>mean</th>\n",
       "      <th>median</th>\n",
       "      <th>max</th>\n",
       "      <th>min</th>\n",
       "      <th>mean</th>\n",
       "      <th>median</th>\n",
       "      <th>max</th>\n",
       "      <th>min</th>\n",
       "      <th>mean</th>\n",
       "      <th>median</th>\n",
       "      <th>max</th>\n",
       "      <th>min</th>\n",
       "      <th>mean</th>\n",
       "      <th>median</th>\n",
       "    </tr>\n",
       "    <tr>\n",
       "      <th>winner</th>\n",
       "      <th>game_type</th>\n",
       "      <th></th>\n",
       "      <th></th>\n",
       "      <th></th>\n",
       "      <th></th>\n",
       "      <th></th>\n",
       "      <th></th>\n",
       "      <th></th>\n",
       "      <th></th>\n",
       "      <th></th>\n",
       "      <th></th>\n",
       "      <th></th>\n",
       "      <th></th>\n",
       "      <th></th>\n",
       "      <th></th>\n",
       "      <th></th>\n",
       "      <th></th>\n",
       "    </tr>\n",
       "  </thead>\n",
       "  <tbody>\n",
       "    <tr>\n",
       "      <th rowspan=\"4\" valign=\"top\">0</th>\n",
       "      <th>0</th>\n",
       "      <td>1</td>\n",
       "      <td>0</td>\n",
       "      <td>0.695652</td>\n",
       "      <td>1</td>\n",
       "      <td>2159</td>\n",
       "      <td>992</td>\n",
       "      <td>1516.869565</td>\n",
       "      <td>1498.0</td>\n",
       "      <td>2499</td>\n",
       "      <td>843</td>\n",
       "      <td>1693.811594</td>\n",
       "      <td>1697.0</td>\n",
       "      <td>140</td>\n",
       "      <td>2</td>\n",
       "      <td>42.811594</td>\n",
       "      <td>44.0</td>\n",
       "    </tr>\n",
       "    <tr>\n",
       "      <th>1</th>\n",
       "      <td>1</td>\n",
       "      <td>0</td>\n",
       "      <td>0.789738</td>\n",
       "      <td>1</td>\n",
       "      <td>2458</td>\n",
       "      <td>826</td>\n",
       "      <td>1559.481316</td>\n",
       "      <td>1513.0</td>\n",
       "      <td>2621</td>\n",
       "      <td>875</td>\n",
       "      <td>1640.753486</td>\n",
       "      <td>1591.0</td>\n",
       "      <td>222</td>\n",
       "      <td>2</td>\n",
       "      <td>60.851645</td>\n",
       "      <td>56.0</td>\n",
       "    </tr>\n",
       "    <tr>\n",
       "      <th>2</th>\n",
       "      <td>1</td>\n",
       "      <td>0</td>\n",
       "      <td>0.840183</td>\n",
       "      <td>1</td>\n",
       "      <td>2621</td>\n",
       "      <td>784</td>\n",
       "      <td>1554.473882</td>\n",
       "      <td>1539.0</td>\n",
       "      <td>2621</td>\n",
       "      <td>789</td>\n",
       "      <td>1643.594564</td>\n",
       "      <td>1621.0</td>\n",
       "      <td>210</td>\n",
       "      <td>1</td>\n",
       "      <td>61.491240</td>\n",
       "      <td>56.0</td>\n",
       "    </tr>\n",
       "    <tr>\n",
       "      <th>3</th>\n",
       "      <td>1</td>\n",
       "      <td>0</td>\n",
       "      <td>0.693322</td>\n",
       "      <td>1</td>\n",
       "      <td>2619</td>\n",
       "      <td>788</td>\n",
       "      <td>1507.028998</td>\n",
       "      <td>1500.0</td>\n",
       "      <td>2500</td>\n",
       "      <td>938</td>\n",
       "      <td>1602.073814</td>\n",
       "      <td>1562.0</td>\n",
       "      <td>182</td>\n",
       "      <td>2</td>\n",
       "      <td>57.494728</td>\n",
       "      <td>52.0</td>\n",
       "    </tr>\n",
       "    <tr>\n",
       "      <th rowspan=\"4\" valign=\"top\">1</th>\n",
       "      <th>0</th>\n",
       "      <td>1</td>\n",
       "      <td>0</td>\n",
       "      <td>0.750000</td>\n",
       "      <td>1</td>\n",
       "      <td>2002</td>\n",
       "      <td>1408</td>\n",
       "      <td>1682.000000</td>\n",
       "      <td>1659.0</td>\n",
       "      <td>2302</td>\n",
       "      <td>1516</td>\n",
       "      <td>1770.500000</td>\n",
       "      <td>1632.0</td>\n",
       "      <td>94</td>\n",
       "      <td>3</td>\n",
       "      <td>40.000000</td>\n",
       "      <td>31.5</td>\n",
       "    </tr>\n",
       "    <tr>\n",
       "      <th>1</th>\n",
       "      <td>1</td>\n",
       "      <td>0</td>\n",
       "      <td>0.748538</td>\n",
       "      <td>1</td>\n",
       "      <td>2474</td>\n",
       "      <td>937</td>\n",
       "      <td>1651.350877</td>\n",
       "      <td>1588.0</td>\n",
       "      <td>2477</td>\n",
       "      <td>946</td>\n",
       "      <td>1630.461988</td>\n",
       "      <td>1562.0</td>\n",
       "      <td>255</td>\n",
       "      <td>3</td>\n",
       "      <td>91.444444</td>\n",
       "      <td>99.0</td>\n",
       "    </tr>\n",
       "    <tr>\n",
       "      <th>2</th>\n",
       "      <td>1</td>\n",
       "      <td>0</td>\n",
       "      <td>0.797997</td>\n",
       "      <td>1</td>\n",
       "      <td>2524</td>\n",
       "      <td>907</td>\n",
       "      <td>1647.492487</td>\n",
       "      <td>1638.0</td>\n",
       "      <td>2524</td>\n",
       "      <td>886</td>\n",
       "      <td>1638.213689</td>\n",
       "      <td>1632.0</td>\n",
       "      <td>259</td>\n",
       "      <td>2</td>\n",
       "      <td>89.460768</td>\n",
       "      <td>95.0</td>\n",
       "    </tr>\n",
       "    <tr>\n",
       "      <th>3</th>\n",
       "      <td>1</td>\n",
       "      <td>0</td>\n",
       "      <td>0.625000</td>\n",
       "      <td>1</td>\n",
       "      <td>2452</td>\n",
       "      <td>1017</td>\n",
       "      <td>1686.500000</td>\n",
       "      <td>1651.5</td>\n",
       "      <td>2526</td>\n",
       "      <td>869</td>\n",
       "      <td>1658.914773</td>\n",
       "      <td>1631.5</td>\n",
       "      <td>201</td>\n",
       "      <td>2</td>\n",
       "      <td>70.829545</td>\n",
       "      <td>70.0</td>\n",
       "    </tr>\n",
       "    <tr>\n",
       "      <th rowspan=\"4\" valign=\"top\">2</th>\n",
       "      <th>0</th>\n",
       "      <td>1</td>\n",
       "      <td>0</td>\n",
       "      <td>0.775862</td>\n",
       "      <td>1</td>\n",
       "      <td>2276</td>\n",
       "      <td>798</td>\n",
       "      <td>1558.275862</td>\n",
       "      <td>1508.0</td>\n",
       "      <td>2352</td>\n",
       "      <td>1044</td>\n",
       "      <td>1520.293103</td>\n",
       "      <td>1484.0</td>\n",
       "      <td>149</td>\n",
       "      <td>3</td>\n",
       "      <td>47.241379</td>\n",
       "      <td>44.0</td>\n",
       "    </tr>\n",
       "    <tr>\n",
       "      <th>1</th>\n",
       "      <td>1</td>\n",
       "      <td>0</td>\n",
       "      <td>0.817215</td>\n",
       "      <td>1</td>\n",
       "      <td>2622</td>\n",
       "      <td>856</td>\n",
       "      <td>1647.603544</td>\n",
       "      <td>1606.0</td>\n",
       "      <td>2723</td>\n",
       "      <td>795</td>\n",
       "      <td>1539.376203</td>\n",
       "      <td>1500.0</td>\n",
       "      <td>209</td>\n",
       "      <td>1</td>\n",
       "      <td>58.074430</td>\n",
       "      <td>55.0</td>\n",
       "    </tr>\n",
       "    <tr>\n",
       "      <th>2</th>\n",
       "      <td>1</td>\n",
       "      <td>0</td>\n",
       "      <td>0.829511</td>\n",
       "      <td>1</td>\n",
       "      <td>2621</td>\n",
       "      <td>784</td>\n",
       "      <td>1634.527610</td>\n",
       "      <td>1609.0</td>\n",
       "      <td>2621</td>\n",
       "      <td>804</td>\n",
       "      <td>1545.981744</td>\n",
       "      <td>1530.0</td>\n",
       "      <td>349</td>\n",
       "      <td>1</td>\n",
       "      <td>58.592939</td>\n",
       "      <td>53.0</td>\n",
       "    </tr>\n",
       "    <tr>\n",
       "      <th>3</th>\n",
       "      <td>1</td>\n",
       "      <td>0</td>\n",
       "      <td>0.667910</td>\n",
       "      <td>1</td>\n",
       "      <td>2700</td>\n",
       "      <td>911</td>\n",
       "      <td>1615.992537</td>\n",
       "      <td>1568.5</td>\n",
       "      <td>2445</td>\n",
       "      <td>807</td>\n",
       "      <td>1503.801493</td>\n",
       "      <td>1500.0</td>\n",
       "      <td>185</td>\n",
       "      <td>1</td>\n",
       "      <td>53.857463</td>\n",
       "      <td>51.0</td>\n",
       "    </tr>\n",
       "  </tbody>\n",
       "</table>\n",
       "</div>"
      ],
      "text/plain": [
       "                 rated                      white_rating                     \\\n",
       "                   max min      mean median          max   min         mean   \n",
       "winner game_type                                                              \n",
       "0      0             1   0  0.695652      1         2159   992  1516.869565   \n",
       "       1             1   0  0.789738      1         2458   826  1559.481316   \n",
       "       2             1   0  0.840183      1         2621   784  1554.473882   \n",
       "       3             1   0  0.693322      1         2619   788  1507.028998   \n",
       "1      0             1   0  0.750000      1         2002  1408  1682.000000   \n",
       "       1             1   0  0.748538      1         2474   937  1651.350877   \n",
       "       2             1   0  0.797997      1         2524   907  1647.492487   \n",
       "       3             1   0  0.625000      1         2452  1017  1686.500000   \n",
       "2      0             1   0  0.775862      1         2276   798  1558.275862   \n",
       "       1             1   0  0.817215      1         2622   856  1647.603544   \n",
       "       2             1   0  0.829511      1         2621   784  1634.527610   \n",
       "       3             1   0  0.667910      1         2700   911  1615.992537   \n",
       "\n",
       "                         black_rating                            turns      \\\n",
       "                  median          max   min         mean  median   max min   \n",
       "winner game_type                                                             \n",
       "0      0          1498.0         2499   843  1693.811594  1697.0   140   2   \n",
       "       1          1513.0         2621   875  1640.753486  1591.0   222   2   \n",
       "       2          1539.0         2621   789  1643.594564  1621.0   210   1   \n",
       "       3          1500.0         2500   938  1602.073814  1562.0   182   2   \n",
       "1      0          1659.0         2302  1516  1770.500000  1632.0    94   3   \n",
       "       1          1588.0         2477   946  1630.461988  1562.0   255   3   \n",
       "       2          1638.0         2524   886  1638.213689  1632.0   259   2   \n",
       "       3          1651.5         2526   869  1658.914773  1631.5   201   2   \n",
       "2      0          1508.0         2352  1044  1520.293103  1484.0   149   3   \n",
       "       1          1606.0         2723   795  1539.376203  1500.0   209   1   \n",
       "       2          1609.0         2621   804  1545.981744  1530.0   349   1   \n",
       "       3          1568.5         2445   807  1503.801493  1500.0   185   1   \n",
       "\n",
       "                                    \n",
       "                       mean median  \n",
       "winner game_type                    \n",
       "0      0          42.811594   44.0  \n",
       "       1          60.851645   56.0  \n",
       "       2          61.491240   56.0  \n",
       "       3          57.494728   52.0  \n",
       "1      0          40.000000   31.5  \n",
       "       1          91.444444   99.0  \n",
       "       2          89.460768   95.0  \n",
       "       3          70.829545   70.0  \n",
       "2      0          47.241379   44.0  \n",
       "       1          58.074430   55.0  \n",
       "       2          58.592939   53.0  \n",
       "       3          53.857463   51.0  "
      ]
     },
     "execution_count": 299,
     "metadata": {},
     "output_type": "execute_result"
    }
   ],
   "source": [
    "df_chess.groupby(['winner','game_type']).agg(['max','min','mean','median'])"
   ]
  },
  {
   "cell_type": "code",
   "execution_count": 300,
   "metadata": {},
   "outputs": [],
   "source": [
    "df_chess['turns'] = pd.cut(df_chess['turns'], bins=[0, 10, 30, 400], include_lowest=True, labels=['start', 'middle', 'end'])\n",
    "\n",
    "df_chess['turns'].replace({'start':0,'middle':1,'end':2},inplace=True)"
   ]
  },
  {
   "cell_type": "code",
   "execution_count": 301,
   "metadata": {},
   "outputs": [
    {
     "data": {
      "text/plain": [
       "winner  turns\n",
       "0       0         276\n",
       "        1        1251\n",
       "        2        7580\n",
       "1       0          40\n",
       "        1          95\n",
       "        2         815\n",
       "2       0         365\n",
       "        1        1539\n",
       "        2        8097\n",
       "dtype: int64"
      ]
     },
     "execution_count": 301,
     "metadata": {},
     "output_type": "execute_result"
    }
   ],
   "source": [
    "df_chess.groupby(['winner','turns']).size()"
   ]
  },
  {
   "cell_type": "code",
   "execution_count": 302,
   "metadata": {},
   "outputs": [
    {
     "data": {
      "text/html": [
       "<div>\n",
       "<style scoped>\n",
       "    .dataframe tbody tr th:only-of-type {\n",
       "        vertical-align: middle;\n",
       "    }\n",
       "\n",
       "    .dataframe tbody tr th {\n",
       "        vertical-align: top;\n",
       "    }\n",
       "\n",
       "    .dataframe thead th {\n",
       "        text-align: right;\n",
       "    }\n",
       "</style>\n",
       "<table border=\"1\" class=\"dataframe\">\n",
       "  <thead>\n",
       "    <tr style=\"text-align: right;\">\n",
       "      <th></th>\n",
       "      <th>rated</th>\n",
       "      <th>increment_code</th>\n",
       "      <th>white_rating</th>\n",
       "      <th>black_rating</th>\n",
       "      <th>opening_eco</th>\n",
       "      <th>turns</th>\n",
       "      <th>winner</th>\n",
       "      <th>game_type</th>\n",
       "    </tr>\n",
       "  </thead>\n",
       "  <tbody>\n",
       "    <tr>\n",
       "      <th>0</th>\n",
       "      <td>0</td>\n",
       "      <td>15+2</td>\n",
       "      <td>1500</td>\n",
       "      <td>1191</td>\n",
       "      <td>D10</td>\n",
       "      <td>1</td>\n",
       "      <td>2</td>\n",
       "      <td>2</td>\n",
       "    </tr>\n",
       "    <tr>\n",
       "      <th>1</th>\n",
       "      <td>1</td>\n",
       "      <td>5+10</td>\n",
       "      <td>1322</td>\n",
       "      <td>1261</td>\n",
       "      <td>B00</td>\n",
       "      <td>1</td>\n",
       "      <td>0</td>\n",
       "      <td>1</td>\n",
       "    </tr>\n",
       "    <tr>\n",
       "      <th>2</th>\n",
       "      <td>1</td>\n",
       "      <td>5+10</td>\n",
       "      <td>1496</td>\n",
       "      <td>1500</td>\n",
       "      <td>C20</td>\n",
       "      <td>2</td>\n",
       "      <td>2</td>\n",
       "      <td>1</td>\n",
       "    </tr>\n",
       "    <tr>\n",
       "      <th>3</th>\n",
       "      <td>1</td>\n",
       "      <td>20+0</td>\n",
       "      <td>1439</td>\n",
       "      <td>1454</td>\n",
       "      <td>D02</td>\n",
       "      <td>2</td>\n",
       "      <td>2</td>\n",
       "      <td>3</td>\n",
       "    </tr>\n",
       "    <tr>\n",
       "      <th>4</th>\n",
       "      <td>1</td>\n",
       "      <td>30+3</td>\n",
       "      <td>1523</td>\n",
       "      <td>1469</td>\n",
       "      <td>C41</td>\n",
       "      <td>2</td>\n",
       "      <td>2</td>\n",
       "      <td>3</td>\n",
       "    </tr>\n",
       "  </tbody>\n",
       "</table>\n",
       "</div>"
      ],
      "text/plain": [
       "   rated increment_code  white_rating  black_rating opening_eco  turns  \\\n",
       "0      0           15+2          1500          1191         D10      1   \n",
       "1      1           5+10          1322          1261         B00      1   \n",
       "2      1           5+10          1496          1500         C20      2   \n",
       "3      1           20+0          1439          1454         D02      2   \n",
       "4      1           30+3          1523          1469         C41      2   \n",
       "\n",
       "   winner  game_type  \n",
       "0       2          2  \n",
       "1       0          1  \n",
       "2       2          1  \n",
       "3       2          3  \n",
       "4       2          3  "
      ]
     },
     "execution_count": 302,
     "metadata": {},
     "output_type": "execute_result"
    }
   ],
   "source": [
    "df_chess.head()"
   ]
  },
  {
   "cell_type": "code",
   "execution_count": 303,
   "metadata": {},
   "outputs": [],
   "source": [
    "df_chess = df_chess[['rated','game_type','white_rating','black_rating','opening_eco','winner']]"
   ]
  },
  {
   "cell_type": "code",
   "execution_count": 304,
   "metadata": {},
   "outputs": [
    {
     "data": {
      "text/html": [
       "<div>\n",
       "<style scoped>\n",
       "    .dataframe tbody tr th:only-of-type {\n",
       "        vertical-align: middle;\n",
       "    }\n",
       "\n",
       "    .dataframe tbody tr th {\n",
       "        vertical-align: top;\n",
       "    }\n",
       "\n",
       "    .dataframe thead th {\n",
       "        text-align: right;\n",
       "    }\n",
       "</style>\n",
       "<table border=\"1\" class=\"dataframe\">\n",
       "  <thead>\n",
       "    <tr style=\"text-align: right;\">\n",
       "      <th></th>\n",
       "      <th>rated</th>\n",
       "      <th>game_type</th>\n",
       "      <th>white_rating</th>\n",
       "      <th>black_rating</th>\n",
       "      <th>opening_eco</th>\n",
       "      <th>winner</th>\n",
       "    </tr>\n",
       "  </thead>\n",
       "  <tbody>\n",
       "    <tr>\n",
       "      <th>0</th>\n",
       "      <td>0</td>\n",
       "      <td>2</td>\n",
       "      <td>1500</td>\n",
       "      <td>1191</td>\n",
       "      <td>D10</td>\n",
       "      <td>2</td>\n",
       "    </tr>\n",
       "    <tr>\n",
       "      <th>1</th>\n",
       "      <td>1</td>\n",
       "      <td>1</td>\n",
       "      <td>1322</td>\n",
       "      <td>1261</td>\n",
       "      <td>B00</td>\n",
       "      <td>0</td>\n",
       "    </tr>\n",
       "    <tr>\n",
       "      <th>2</th>\n",
       "      <td>1</td>\n",
       "      <td>1</td>\n",
       "      <td>1496</td>\n",
       "      <td>1500</td>\n",
       "      <td>C20</td>\n",
       "      <td>2</td>\n",
       "    </tr>\n",
       "    <tr>\n",
       "      <th>3</th>\n",
       "      <td>1</td>\n",
       "      <td>3</td>\n",
       "      <td>1439</td>\n",
       "      <td>1454</td>\n",
       "      <td>D02</td>\n",
       "      <td>2</td>\n",
       "    </tr>\n",
       "    <tr>\n",
       "      <th>4</th>\n",
       "      <td>1</td>\n",
       "      <td>3</td>\n",
       "      <td>1523</td>\n",
       "      <td>1469</td>\n",
       "      <td>C41</td>\n",
       "      <td>2</td>\n",
       "    </tr>\n",
       "  </tbody>\n",
       "</table>\n",
       "</div>"
      ],
      "text/plain": [
       "   rated  game_type  white_rating  black_rating opening_eco  winner\n",
       "0      0          2          1500          1191         D10       2\n",
       "1      1          1          1322          1261         B00       0\n",
       "2      1          1          1496          1500         C20       2\n",
       "3      1          3          1439          1454         D02       2\n",
       "4      1          3          1523          1469         C41       2"
      ]
     },
     "execution_count": 304,
     "metadata": {},
     "output_type": "execute_result"
    }
   ],
   "source": [
    "df_chess.head()"
   ]
  },
  {
   "cell_type": "code",
   "execution_count": 305,
   "metadata": {},
   "outputs": [],
   "source": [
    "#bins=[0, 1200, 1400, 1600 ,1800, 2000, 2200,  2300, 2400, 2500, 2700, 3000]\n",
    "#labels=['novice', 'CDc4', 'CCc3','CBc2','CAc1','CM','FIDE_CM','FIDE_FM','IM','GM','SM'])\n",
    "\n",
    "df_chess['white_rating'] = pd.cut(df_chess['white_rating'], bins=[0, 1200, 1400, 1600 ,1800, 2000, 2200, \n",
    "2300, 2400, 2500, 2700, 3000], include_lowest=True, labels=[0,1,2,3,4,5,6,7,8,9,10])\n",
    "\n",
    "df_chess['black_rating'] = pd.cut(df_chess['black_rating'], bins=[0, 1200, 1400, 1600 ,1800, 2000, 2200, \n",
    "2300, 2400, 2500, 2700, 3000], include_lowest=True, labels=[0,1,2,3,4,5,6,7,8,9,10])"
   ]
  },
  {
   "cell_type": "code",
   "execution_count": 306,
   "metadata": {},
   "outputs": [
    {
     "data": {
      "text/html": [
       "<div>\n",
       "<style scoped>\n",
       "    .dataframe tbody tr th:only-of-type {\n",
       "        vertical-align: middle;\n",
       "    }\n",
       "\n",
       "    .dataframe tbody tr th {\n",
       "        vertical-align: top;\n",
       "    }\n",
       "\n",
       "    .dataframe thead th {\n",
       "        text-align: right;\n",
       "    }\n",
       "</style>\n",
       "<table border=\"1\" class=\"dataframe\">\n",
       "  <thead>\n",
       "    <tr style=\"text-align: right;\">\n",
       "      <th></th>\n",
       "      <th>rated</th>\n",
       "      <th>game_type</th>\n",
       "      <th>white_rating</th>\n",
       "      <th>black_rating</th>\n",
       "      <th>opening_eco</th>\n",
       "      <th>winner</th>\n",
       "    </tr>\n",
       "  </thead>\n",
       "  <tbody>\n",
       "    <tr>\n",
       "      <th>0</th>\n",
       "      <td>0</td>\n",
       "      <td>2</td>\n",
       "      <td>2</td>\n",
       "      <td>0</td>\n",
       "      <td>D10</td>\n",
       "      <td>2</td>\n",
       "    </tr>\n",
       "    <tr>\n",
       "      <th>1</th>\n",
       "      <td>1</td>\n",
       "      <td>1</td>\n",
       "      <td>1</td>\n",
       "      <td>1</td>\n",
       "      <td>B00</td>\n",
       "      <td>0</td>\n",
       "    </tr>\n",
       "    <tr>\n",
       "      <th>2</th>\n",
       "      <td>1</td>\n",
       "      <td>1</td>\n",
       "      <td>2</td>\n",
       "      <td>2</td>\n",
       "      <td>C20</td>\n",
       "      <td>2</td>\n",
       "    </tr>\n",
       "    <tr>\n",
       "      <th>3</th>\n",
       "      <td>1</td>\n",
       "      <td>3</td>\n",
       "      <td>2</td>\n",
       "      <td>2</td>\n",
       "      <td>D02</td>\n",
       "      <td>2</td>\n",
       "    </tr>\n",
       "    <tr>\n",
       "      <th>4</th>\n",
       "      <td>1</td>\n",
       "      <td>3</td>\n",
       "      <td>2</td>\n",
       "      <td>2</td>\n",
       "      <td>C41</td>\n",
       "      <td>2</td>\n",
       "    </tr>\n",
       "  </tbody>\n",
       "</table>\n",
       "</div>"
      ],
      "text/plain": [
       "   rated  game_type white_rating black_rating opening_eco  winner\n",
       "0      0          2            2            0         D10       2\n",
       "1      1          1            1            1         B00       0\n",
       "2      1          1            2            2         C20       2\n",
       "3      1          3            2            2         D02       2\n",
       "4      1          3            2            2         C41       2"
      ]
     },
     "execution_count": 306,
     "metadata": {},
     "output_type": "execute_result"
    }
   ],
   "source": [
    "df_chess.head()"
   ]
  },
  {
   "cell_type": "code",
   "execution_count": 307,
   "metadata": {},
   "outputs": [],
   "source": [
    "df_chess['opening_eco'] = df_chess['opening_eco'].astype(str).str[0:1]"
   ]
  },
  {
   "cell_type": "code",
   "execution_count": 308,
   "metadata": {},
   "outputs": [
    {
     "data": {
      "text/html": [
       "<div>\n",
       "<style scoped>\n",
       "    .dataframe tbody tr th:only-of-type {\n",
       "        vertical-align: middle;\n",
       "    }\n",
       "\n",
       "    .dataframe tbody tr th {\n",
       "        vertical-align: top;\n",
       "    }\n",
       "\n",
       "    .dataframe thead th {\n",
       "        text-align: right;\n",
       "    }\n",
       "</style>\n",
       "<table border=\"1\" class=\"dataframe\">\n",
       "  <thead>\n",
       "    <tr style=\"text-align: right;\">\n",
       "      <th></th>\n",
       "      <th>rated</th>\n",
       "      <th>game_type</th>\n",
       "      <th>white_rating</th>\n",
       "      <th>black_rating</th>\n",
       "      <th>opening_eco</th>\n",
       "      <th>winner</th>\n",
       "    </tr>\n",
       "  </thead>\n",
       "  <tbody>\n",
       "    <tr>\n",
       "      <th>0</th>\n",
       "      <td>0</td>\n",
       "      <td>2</td>\n",
       "      <td>2</td>\n",
       "      <td>0</td>\n",
       "      <td>D</td>\n",
       "      <td>2</td>\n",
       "    </tr>\n",
       "    <tr>\n",
       "      <th>1</th>\n",
       "      <td>1</td>\n",
       "      <td>1</td>\n",
       "      <td>1</td>\n",
       "      <td>1</td>\n",
       "      <td>B</td>\n",
       "      <td>0</td>\n",
       "    </tr>\n",
       "    <tr>\n",
       "      <th>2</th>\n",
       "      <td>1</td>\n",
       "      <td>1</td>\n",
       "      <td>2</td>\n",
       "      <td>2</td>\n",
       "      <td>C</td>\n",
       "      <td>2</td>\n",
       "    </tr>\n",
       "    <tr>\n",
       "      <th>3</th>\n",
       "      <td>1</td>\n",
       "      <td>3</td>\n",
       "      <td>2</td>\n",
       "      <td>2</td>\n",
       "      <td>D</td>\n",
       "      <td>2</td>\n",
       "    </tr>\n",
       "    <tr>\n",
       "      <th>4</th>\n",
       "      <td>1</td>\n",
       "      <td>3</td>\n",
       "      <td>2</td>\n",
       "      <td>2</td>\n",
       "      <td>C</td>\n",
       "      <td>2</td>\n",
       "    </tr>\n",
       "  </tbody>\n",
       "</table>\n",
       "</div>"
      ],
      "text/plain": [
       "   rated  game_type white_rating black_rating opening_eco  winner\n",
       "0      0          2            2            0           D       2\n",
       "1      1          1            1            1           B       0\n",
       "2      1          1            2            2           C       2\n",
       "3      1          3            2            2           D       2\n",
       "4      1          3            2            2           C       2"
      ]
     },
     "execution_count": 308,
     "metadata": {},
     "output_type": "execute_result"
    }
   ],
   "source": [
    "df_chess.head()"
   ]
  },
  {
   "cell_type": "code",
   "execution_count": 309,
   "metadata": {},
   "outputs": [],
   "source": [
    "df_chess['opening_eco'].unique()\n",
    "df_chess['opening_eco'].replace({'A':0 , 'B':1 , 'C':2 , 'D':3 , 'E': 4}, inplace=True)"
   ]
  },
  {
   "cell_type": "code",
   "execution_count": 310,
   "metadata": {},
   "outputs": [
    {
     "data": {
      "text/html": [
       "<div>\n",
       "<style scoped>\n",
       "    .dataframe tbody tr th:only-of-type {\n",
       "        vertical-align: middle;\n",
       "    }\n",
       "\n",
       "    .dataframe tbody tr th {\n",
       "        vertical-align: top;\n",
       "    }\n",
       "\n",
       "    .dataframe thead th {\n",
       "        text-align: right;\n",
       "    }\n",
       "</style>\n",
       "<table border=\"1\" class=\"dataframe\">\n",
       "  <thead>\n",
       "    <tr style=\"text-align: right;\">\n",
       "      <th></th>\n",
       "      <th>rated</th>\n",
       "      <th>game_type</th>\n",
       "      <th>white_rating</th>\n",
       "      <th>black_rating</th>\n",
       "      <th>opening_eco</th>\n",
       "      <th>winner</th>\n",
       "    </tr>\n",
       "  </thead>\n",
       "  <tbody>\n",
       "    <tr>\n",
       "      <th>0</th>\n",
       "      <td>0</td>\n",
       "      <td>2</td>\n",
       "      <td>2</td>\n",
       "      <td>0</td>\n",
       "      <td>3</td>\n",
       "      <td>2</td>\n",
       "    </tr>\n",
       "    <tr>\n",
       "      <th>1</th>\n",
       "      <td>1</td>\n",
       "      <td>1</td>\n",
       "      <td>1</td>\n",
       "      <td>1</td>\n",
       "      <td>1</td>\n",
       "      <td>0</td>\n",
       "    </tr>\n",
       "    <tr>\n",
       "      <th>2</th>\n",
       "      <td>1</td>\n",
       "      <td>1</td>\n",
       "      <td>2</td>\n",
       "      <td>2</td>\n",
       "      <td>2</td>\n",
       "      <td>2</td>\n",
       "    </tr>\n",
       "    <tr>\n",
       "      <th>3</th>\n",
       "      <td>1</td>\n",
       "      <td>3</td>\n",
       "      <td>2</td>\n",
       "      <td>2</td>\n",
       "      <td>3</td>\n",
       "      <td>2</td>\n",
       "    </tr>\n",
       "    <tr>\n",
       "      <th>4</th>\n",
       "      <td>1</td>\n",
       "      <td>3</td>\n",
       "      <td>2</td>\n",
       "      <td>2</td>\n",
       "      <td>2</td>\n",
       "      <td>2</td>\n",
       "    </tr>\n",
       "  </tbody>\n",
       "</table>\n",
       "</div>"
      ],
      "text/plain": [
       "   rated  game_type white_rating black_rating  opening_eco  winner\n",
       "0      0          2            2            0            3       2\n",
       "1      1          1            1            1            1       0\n",
       "2      1          1            2            2            2       2\n",
       "3      1          3            2            2            3       2\n",
       "4      1          3            2            2            2       2"
      ]
     },
     "execution_count": 310,
     "metadata": {},
     "output_type": "execute_result"
    }
   ],
   "source": [
    "df_chess.head()"
   ]
  },
  {
   "cell_type": "code",
   "execution_count": 311,
   "metadata": {},
   "outputs": [],
   "source": [
    "df_chess.to_csv('forModelingGames.csv',index=False)"
   ]
  },
  {
   "cell_type": "code",
   "execution_count": 312,
   "metadata": {},
   "outputs": [],
   "source": [
    "df_chess = pd.read_csv('forModelingGames.csv')"
   ]
  },
  {
   "cell_type": "code",
   "execution_count": 313,
   "metadata": {},
   "outputs": [],
   "source": [
    "X = df_chess[['rated','game_type','white_rating','black_rating','opening_eco']].values\n",
    "y = df_chess['winner']"
   ]
  },
  {
   "cell_type": "code",
   "execution_count": 314,
   "metadata": {},
   "outputs": [],
   "source": [
    "from sklearn.preprocessing import StandardScaler\n",
    "from sklearn.model_selection import train_test_split\n",
    "from sklearn.linear_model import LogisticRegression\n",
    "from sklearn.metrics import f1_score\n",
    "from sklearn.metrics import accuracy_score\n",
    "from sklearn.metrics import roc_auc_score\n",
    "from sklearn.metrics import roc_curve, auc\n",
    "from sklearn.metrics import average_precision_score\n",
    "from sklearn.metrics import recall_score\n",
    "from sklearn.metrics import confusion_matrix"
   ]
  },
  {
   "cell_type": "code",
   "execution_count": 340,
   "metadata": {},
   "outputs": [
    {
     "name": "stdout",
     "output_type": "stream",
     "text": [
      "logisticRegression Accuracy:  0.621313035204567\n"
     ]
    }
   ],
   "source": [
    "# Normalizing X\n",
    "X = StandardScaler().fit(X).transform(X)\n",
    "\n",
    "# Setting training and test data from the dataset\n",
    "X_train, X_test, y_train, y_test = train_test_split(X, y, test_size = 0.33, shuffle=True);\n",
    "\n",
    "# Fitting the classification model\n",
    "clf = LogisticRegression(multi_class = 'multinomial').fit(X_train, y_train)\n",
    "\n",
    "# Predicted values from X_test\n",
    "y_hat = clf.predict(X_test)\n",
    "\n",
    "# Metrics\n",
    "from sklearn.metrics import accuracy_score\n",
    "print(\"logisticRegression Accuracy: \", accuracy_score(y_test, y_hat))"
   ]
  },
  {
   "cell_type": "code",
   "execution_count": 341,
   "metadata": {},
   "outputs": [
    {
     "name": "stdout",
     "output_type": "stream",
     "text": [
      "[[1084 1942]\n",
      " [ 446 2834]]\n"
     ]
    }
   ],
   "source": [
    "from sklearn.metrics import confusion_matrix\n",
    "cm = confusion_matrix(y_test, y_hat)\n",
    "print(cm)"
   ]
  },
  {
   "cell_type": "code",
   "execution_count": 342,
   "metadata": {},
   "outputs": [
    {
     "name": "stderr",
     "output_type": "stream",
     "text": [
      "C:\\Users\\Sergio\\anaconda3\\lib\\site-packages\\pandas\\core\\frame.py:4166: SettingWithCopyWarning: \n",
      "A value is trying to be set on a copy of a slice from a DataFrame\n",
      "\n",
      "See the caveats in the documentation: https://pandas.pydata.org/pandas-docs/stable/user_guide/indexing.html#returning-a-view-versus-a-copy\n",
      "  return super().replace(\n"
     ]
    }
   ],
   "source": [
    "df_chess_noDraws = df_chess[df_chess['winner'] != 1]\n",
    "\n",
    "df_chess_noDraws.replace({2:1},inplace=True)\n",
    "\n",
    "X = df_chess_noDraws[['rated','game_type','white_rating','black_rating','opening_eco']].values\n",
    "y = df_chess_noDraws['winner'].values"
   ]
  },
  {
   "cell_type": "code",
   "execution_count": 349,
   "metadata": {},
   "outputs": [
    {
     "name": "stdout",
     "output_type": "stream",
     "text": [
      "f1score =  0.6919100542775912\n",
      "accuracy =  0.6219473517285126\n"
     ]
    },
    {
     "data": {
      "image/png": "[encoded data removed]",
      "text/plain": [
       "<Figure size 432x288 with 2 Axes>"
      ]
     },
     "metadata": {
      "needs_background": "light"
     },
     "output_type": "display_data"
    }
   ],
   "source": [
    "# Normalizing X\n",
    "X = StandardScaler().fit(X).transform(X)\n",
    "\n",
    "# Setting training and test data from the dataset\n",
    "X_train, X_test, y_train, y_test = train_test_split(X, y, test_size = 0.33, shuffle=True);\n",
    "X_train = np.around(X_train, decimals = 5)\n",
    "X_test = np.around(X_test, decimals = 5)\n",
    "\n",
    "# We train the binary logistic regression model and fit\n",
    "clf = LogisticRegression(solver='lbfgs',max_iter=3000).fit(X_train, y_train)\n",
    "    \n",
    "# Predicted values from X_test\n",
    "y_hat = clf.predict(X_test)\n",
    "\n",
    "# Metrics\n",
    "acc = accuracy_score(y_test, y_hat)\n",
    "prec = average_precision_score(y_test, y_hat, average='macro')\n",
    "rec = recall_score(y_test, y_hat, average='macro')\n",
    "f1scor = f1_score(y_test,y_hat,average='binary')\n",
    "print('f1score = ', f1scor)\n",
    "print('accuracy = ', acc)\n",
    "\n",
    "from sklearn.metrics import plot_confusion_matrix\n",
    "\n",
    "plot_confusion_matrix(clf, X_test, y_test)\n",
    "plt.show()"
   ]
  },
  {
   "cell_type": "code",
   "execution_count": 344,
   "metadata": {},
   "outputs": [
    {
     "name": "stdout",
     "output_type": "stream",
     "text": [
      "ROC AUC:  0.6658480131857303\n"
     ]
    },
    {
     "data": {
      "image/png": "[encoded data removed]",
      "text/plain": [
       "<Figure size 432x288 with 1 Axes>"
      ]
     },
     "metadata": {
      "needs_background": "light"
     },
     "output_type": "display_data"
    }
   ],
   "source": [
    "# We will now calculate the ROC AUC and plot it\n",
    "# Learn to predict each class against the other\n",
    "y_score = clf.fit(X_train, y_train).decision_function(X_test)\n",
    "\n",
    "# Compute ROC curve, ROC area and plot it\n",
    "fpr, tpr, threshold = roc_curve(y_test, y_score)\n",
    "roc_auc = auc(fpr, tpr)\n",
    "print('ROC AUC: ', roc_auc)\n",
    "\n",
    "plt.figure()\n",
    "lw = 2\n",
    "plt.plot(fpr, tpr, color='red', lw=lw, label='ROC curve (area = %0.2f)' % roc_auc)\n",
    "plt.plot([0, 1], [0, 1], color='navy', lw=lw, linestyle='--')\n",
    "plt.xlim([0.0, 1.0])\n",
    "plt.ylim([0.0, 1.05])\n",
    "plt.xlabel('False Positive Rate')\n",
    "plt.ylabel('True Positive Rate')\n",
    "plt.title('ROC AUC for binary logistic regression ')\n",
    "plt.legend(loc=\"lower right\")\n",
    "plt.show()"
   ]
  },
  {
   "cell_type": "code",
   "execution_count": 348,
   "metadata": {},
   "outputs": [
    {
     "data": {
      "image/png": "[encoded data removed]",
      "text/plain": [
       "<Figure size 432x288 with 2 Axes>"
      ]
     },
     "metadata": {
      "needs_background": "light"
     },
     "output_type": "display_data"
    }
   ],
   "source": [
    "from sklearn.metrics import plot_confusion_matrix\n",
    "\n",
    "plot_confusion_matrix(clf, X_test, y_test)\n",
    "plt.show()"
   ]
  },
  {
   "cell_type": "code",
   "execution_count": 346,
   "metadata": {},
   "outputs": [
    {
     "name": "stdout",
     "output_type": "stream",
     "text": [
      "DecisionTrees's f1_score:  0.5994331924458234\n",
      "DecisionTrees's Accuracy:  0.6124326038693308\n",
      "[[1363 1586]\n",
      " [ 858 2499]]\n",
      "0.46219057307561884\n",
      "0.7444146559428061\n"
     ]
    }
   ],
   "source": [
    "from sklearn.preprocessing import StandardScaler\n",
    "from sklearn.model_selection import train_test_split\n",
    "from sklearn.tree import plot_tree\n",
    "from sklearn.tree import DecisionTreeClassifier\n",
    "from sklearn import tree\n",
    "from sklearn.metrics import f1_score\n",
    "from sklearn.metrics import accuracy_score\n",
    "from sklearn.metrics import confusion_matrix\n",
    "    \n",
    "# Normalizing X\n",
    "# Setting training and test data from the dataset\n",
    "DT = tree.DecisionTreeClassifier(criterion=\"entropy\",max_depth=5)\n",
    "DT = DT.fit(X_train,y_train)\n",
    "    \n",
    "# Predicted values from X_test\n",
    "y_hat = DT.predict(X_test)\n",
    "    \n",
    "print(\"DecisionTrees's f1_score: \", f1_score(y_test,y_hat, average = 'macro'))\n",
    "print(\"DecisionTrees's Accuracy: \", accuracy_score(y_test, y_hat))\n",
    "\n",
    "cm = confusion_matrix(y_test, y_hat)\n",
    "print(cm)\n",
    "    \n",
    "cmfor0 = cm[0,0]/np.sum(cm[0,]); print(cmfor0)\n",
    "cmfor1 = cm[1,1]/np.sum(cm[1,]); print(cmfor1)"
   ]
  },
  {
   "cell_type": "code",
   "execution_count": 350,
   "metadata": {},
   "outputs": [
    {
     "data": {
      "image/png": "[encoded data removed]",
      "text/plain": [
       "<Figure size 432x288 with 2 Axes>"
      ]
     },
     "metadata": {
      "needs_background": "light"
     },
     "output_type": "display_data"
    }
   ],
   "source": [
    "from sklearn.metrics import plot_confusion_matrix\n",
    "\n",
    "plot_confusion_matrix(DT, X_test, y_test)\n",
    "plt.show()"
   ]
  },
  {
   "cell_type": "code",
   "execution_count": null,
   "metadata": {},
   "outputs": [],
   "source": []
  }
 ],
 "metadata": {
  "kernelspec": {
   "display_name": "Python 3",
   "language": "python",
   "name": "python3"
  },
  "language_info": {
   "codemirror_mode": {
    "name": "ipython",
    "version": 3
   },
   "file_extension": ".py",
   "mimetype": "text/x-python",
   "name": "python",
   "nbconvert_exporter": "python",
   "pygments_lexer": "ipython3",
   "version": "3.8.3"
  }
 },
 "nbformat": 4,
 "nbformat_minor": 4
}
